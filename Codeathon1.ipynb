{
  "nbformat": 4,
  "nbformat_minor": 0,
  "metadata": {
    "colab": {
      "name": "Codeathon1.ipynb",
      "provenance": [],
      "collapsed_sections": [
        "-W3YoaO3jpUz"
      ]
    },
    "kernelspec": {
      "name": "python3",
      "display_name": "Python 3"
    }
  },
  "cells": [
    {
      "cell_type": "markdown",
      "metadata": {
        "id": "5ToyEnRxjX1X",
        "colab_type": "text"
      },
      "source": [
        "# Big Picture"
      ]
    },
    {
      "cell_type": "code",
      "metadata": {
        "id": "Rb9yPlE0L68d",
        "colab_type": "code",
        "colab": {}
      },
      "source": [
        "# Python ≥3.5 is required\n",
        "#import sys #\n",
        "# Scikit-Learn ≥0.20 is required\n",
        "import sklearn # general ml package\n",
        "\n",
        "# Common imports\n",
        "import numpy as np # fundamental package for scientific computing\n",
        "import os # to run file I/O operation \n",
        "\n",
        "# to make this notebook's output stable across runs\n",
        "# any number will do, as long as it is used consistently\n",
        "np.random.seed(42)\n",
        "\n",
        "# To plot pretty figures\n",
        "%matplotlib inline\n",
        "import matplotlib as mpl\n",
        "import matplotlib.pyplot as plt\n",
        "mpl.rc('axes', labelsize=14)\n",
        "mpl.rc('xtick', labelsize=12)\n",
        "mpl.rc('ytick', labelsize=12)\n",
        "\n",
        "# Where to save the figures\n",
        "PROJECT_ROOT_DIR = \".\"\n",
        "CHAPTER_ID = \"end_to_end_project\"\n",
        "IMAGES_PATH = os.path.join(PROJECT_ROOT_DIR, \"images\", CHAPTER_ID)\n",
        "os.makedirs(IMAGES_PATH, exist_ok=True)\n",
        "\n",
        "def save_fig(fig_id, tight_layout=True, fig_extension=\"png\", resolution=300):\n",
        "  \"\"\"Save the selected figure into disc under an image extention and resolution\n",
        "\n",
        "  Parameters\n",
        "  ----------\n",
        "  fig_id : figure handle\n",
        "    The id number of the figure\n",
        "  tight_layout : boolean (True or False)\n",
        "    Specifies whenther the layout should be tight or not\n",
        "  fig_extension: string\n",
        "    Under what extension should the file be saved (\"png\" or \"jpg\")\n",
        "  resolution: int\n",
        "    the quality of the figure (ie. 100,200,300)\n",
        "\n",
        "  Returns\n",
        "  -------\n",
        "  void\n",
        "    Does not return any value\n",
        "  \"\"\"\n",
        "\n",
        "  path = os.path.join(IMAGES_PATH, fig_id + \".\" + fig_extension)\n",
        "  print(\"Saving figure\", fig_id)\n",
        "  if tight_layout:\n",
        "    plt.tight_layout()\n",
        "  plt.savefig(path, format=fig_extension, dpi=resolution)"
      ],
      "execution_count": 0,
      "outputs": []
    },
    {
      "cell_type": "markdown",
      "metadata": {
        "id": "MC6JrBNijjQY",
        "colab_type": "text"
      },
      "source": [
        "# Get the Data"
      ]
    },
    {
      "cell_type": "markdown",
      "metadata": {
        "id": "8SryQJ_iN2z8",
        "colab_type": "text"
      },
      "source": [
        "Headers: \n",
        "- CRIM     per capita crime rate by town\n",
        "- ZN       proportion of residential land zoned for lots over 25,000 sq.ft.\n",
        "- INDUS    proportion of non-retail business acres per town\n",
        "- CHAS     Charles River dummy variable (= 1 if tract bounds river; 0 otherwise)\n",
        "- NOX      nitric oxides concentration (parts per 10 million)\n",
        "- RM       average number of rooms per dwelling\n",
        "- AGE      proportion of owner-occupied units built prior to 1940\n",
        "- DIS      weighted distances to five Boston employment centres\n",
        "- RAD      index of accessibility to radial highways\n",
        "- TAX      full-value property-tax rate per $10000\n",
        "- PTRATIO  pupil/teacher ratio by town\n",
        "\n",
        "- B        1000(Bk - 0.63)^2 where Bk is the proportion of blacks by town\n",
        "- LSTAT    % lower status of the population\n",
        "- MEDV     Median value of owner-occupied homes in $1000's"
      ]
    },
    {
      "cell_type": "code",
      "metadata": {
        "id": "r_TnZGmGMKKa",
        "colab_type": "code",
        "colab": {}
      },
      "source": [
        "import pandas as pd # Pandas module to enable data manipulation\n",
        "housing = pd.read_csv(\"housing.csv\", sep=\"\\s+\", names=[\"CRIM\", \"ZN\", \"INDUS\", \"CHAS\", \"NOX\", \"RM\", \"AGE\", \"DIS\", \"RAD\", \"TAX\",\"PTRATIO\", \"B\", \"LSTAT\", \"MEDV\"])"
      ],
      "execution_count": 0,
      "outputs": []
    },
    {
      "cell_type": "code",
      "metadata": {
        "id": "1OBia04iPdFv",
        "colab_type": "code",
        "colab": {
          "base_uri": "https://localhost:8080/",
          "height": 355
        },
        "outputId": "b49c56aa-e1e7-44a1-be6e-3ea99e55b9fe"
      },
      "source": [
        "housing.head(10)"
      ],
      "execution_count": 88,
      "outputs": [
        {
          "output_type": "execute_result",
          "data": {
            "text/html": [
              "<div>\n",
              "<style scoped>\n",
              "    .dataframe tbody tr th:only-of-type {\n",
              "        vertical-align: middle;\n",
              "    }\n",
              "\n",
              "    .dataframe tbody tr th {\n",
              "        vertical-align: top;\n",
              "    }\n",
              "\n",
              "    .dataframe thead th {\n",
              "        text-align: right;\n",
              "    }\n",
              "</style>\n",
              "<table border=\"1\" class=\"dataframe\">\n",
              "  <thead>\n",
              "    <tr style=\"text-align: right;\">\n",
              "      <th></th>\n",
              "      <th>CRIM</th>\n",
              "      <th>ZN</th>\n",
              "      <th>INDUS</th>\n",
              "      <th>CHAS</th>\n",
              "      <th>NOX</th>\n",
              "      <th>RM</th>\n",
              "      <th>AGE</th>\n",
              "      <th>DIS</th>\n",
              "      <th>RAD</th>\n",
              "      <th>TAX</th>\n",
              "      <th>PTRATIO</th>\n",
              "      <th>B</th>\n",
              "      <th>LSTAT</th>\n",
              "      <th>MEDV</th>\n",
              "    </tr>\n",
              "  </thead>\n",
              "  <tbody>\n",
              "    <tr>\n",
              "      <th>0</th>\n",
              "      <td>0.00632</td>\n",
              "      <td>18.0</td>\n",
              "      <td>2.31</td>\n",
              "      <td>0</td>\n",
              "      <td>0.538</td>\n",
              "      <td>6.575</td>\n",
              "      <td>65.2</td>\n",
              "      <td>4.0900</td>\n",
              "      <td>1</td>\n",
              "      <td>296.0</td>\n",
              "      <td>15.3</td>\n",
              "      <td>396.90</td>\n",
              "      <td>4.98</td>\n",
              "      <td>24.0</td>\n",
              "    </tr>\n",
              "    <tr>\n",
              "      <th>1</th>\n",
              "      <td>0.02731</td>\n",
              "      <td>0.0</td>\n",
              "      <td>7.07</td>\n",
              "      <td>0</td>\n",
              "      <td>0.469</td>\n",
              "      <td>6.421</td>\n",
              "      <td>78.9</td>\n",
              "      <td>4.9671</td>\n",
              "      <td>2</td>\n",
              "      <td>242.0</td>\n",
              "      <td>17.8</td>\n",
              "      <td>396.90</td>\n",
              "      <td>9.14</td>\n",
              "      <td>21.6</td>\n",
              "    </tr>\n",
              "    <tr>\n",
              "      <th>2</th>\n",
              "      <td>0.02729</td>\n",
              "      <td>0.0</td>\n",
              "      <td>7.07</td>\n",
              "      <td>0</td>\n",
              "      <td>0.469</td>\n",
              "      <td>7.185</td>\n",
              "      <td>61.1</td>\n",
              "      <td>4.9671</td>\n",
              "      <td>2</td>\n",
              "      <td>242.0</td>\n",
              "      <td>17.8</td>\n",
              "      <td>392.83</td>\n",
              "      <td>4.03</td>\n",
              "      <td>34.7</td>\n",
              "    </tr>\n",
              "    <tr>\n",
              "      <th>3</th>\n",
              "      <td>0.03237</td>\n",
              "      <td>0.0</td>\n",
              "      <td>2.18</td>\n",
              "      <td>0</td>\n",
              "      <td>0.458</td>\n",
              "      <td>6.998</td>\n",
              "      <td>45.8</td>\n",
              "      <td>6.0622</td>\n",
              "      <td>3</td>\n",
              "      <td>222.0</td>\n",
              "      <td>18.7</td>\n",
              "      <td>394.63</td>\n",
              "      <td>2.94</td>\n",
              "      <td>33.4</td>\n",
              "    </tr>\n",
              "    <tr>\n",
              "      <th>4</th>\n",
              "      <td>0.06905</td>\n",
              "      <td>0.0</td>\n",
              "      <td>2.18</td>\n",
              "      <td>0</td>\n",
              "      <td>0.458</td>\n",
              "      <td>7.147</td>\n",
              "      <td>54.2</td>\n",
              "      <td>6.0622</td>\n",
              "      <td>3</td>\n",
              "      <td>222.0</td>\n",
              "      <td>18.7</td>\n",
              "      <td>396.90</td>\n",
              "      <td>5.33</td>\n",
              "      <td>36.2</td>\n",
              "    </tr>\n",
              "    <tr>\n",
              "      <th>5</th>\n",
              "      <td>0.02985</td>\n",
              "      <td>0.0</td>\n",
              "      <td>2.18</td>\n",
              "      <td>0</td>\n",
              "      <td>0.458</td>\n",
              "      <td>6.430</td>\n",
              "      <td>58.7</td>\n",
              "      <td>6.0622</td>\n",
              "      <td>3</td>\n",
              "      <td>222.0</td>\n",
              "      <td>18.7</td>\n",
              "      <td>394.12</td>\n",
              "      <td>5.21</td>\n",
              "      <td>28.7</td>\n",
              "    </tr>\n",
              "    <tr>\n",
              "      <th>6</th>\n",
              "      <td>0.08829</td>\n",
              "      <td>12.5</td>\n",
              "      <td>7.87</td>\n",
              "      <td>0</td>\n",
              "      <td>0.524</td>\n",
              "      <td>6.012</td>\n",
              "      <td>66.6</td>\n",
              "      <td>5.5605</td>\n",
              "      <td>5</td>\n",
              "      <td>311.0</td>\n",
              "      <td>15.2</td>\n",
              "      <td>395.60</td>\n",
              "      <td>12.43</td>\n",
              "      <td>22.9</td>\n",
              "    </tr>\n",
              "    <tr>\n",
              "      <th>7</th>\n",
              "      <td>0.14455</td>\n",
              "      <td>12.5</td>\n",
              "      <td>7.87</td>\n",
              "      <td>0</td>\n",
              "      <td>0.524</td>\n",
              "      <td>6.172</td>\n",
              "      <td>96.1</td>\n",
              "      <td>5.9505</td>\n",
              "      <td>5</td>\n",
              "      <td>311.0</td>\n",
              "      <td>15.2</td>\n",
              "      <td>396.90</td>\n",
              "      <td>19.15</td>\n",
              "      <td>27.1</td>\n",
              "    </tr>\n",
              "    <tr>\n",
              "      <th>8</th>\n",
              "      <td>0.21124</td>\n",
              "      <td>12.5</td>\n",
              "      <td>7.87</td>\n",
              "      <td>0</td>\n",
              "      <td>0.524</td>\n",
              "      <td>5.631</td>\n",
              "      <td>100.0</td>\n",
              "      <td>6.0821</td>\n",
              "      <td>5</td>\n",
              "      <td>311.0</td>\n",
              "      <td>15.2</td>\n",
              "      <td>386.63</td>\n",
              "      <td>29.93</td>\n",
              "      <td>16.5</td>\n",
              "    </tr>\n",
              "    <tr>\n",
              "      <th>9</th>\n",
              "      <td>0.17004</td>\n",
              "      <td>12.5</td>\n",
              "      <td>7.87</td>\n",
              "      <td>0</td>\n",
              "      <td>0.524</td>\n",
              "      <td>6.004</td>\n",
              "      <td>85.9</td>\n",
              "      <td>6.5921</td>\n",
              "      <td>5</td>\n",
              "      <td>311.0</td>\n",
              "      <td>15.2</td>\n",
              "      <td>386.71</td>\n",
              "      <td>17.10</td>\n",
              "      <td>18.9</td>\n",
              "    </tr>\n",
              "  </tbody>\n",
              "</table>\n",
              "</div>"
            ],
            "text/plain": [
              "      CRIM    ZN  INDUS  CHAS    NOX  ...    TAX  PTRATIO       B  LSTAT  MEDV\n",
              "0  0.00632  18.0   2.31     0  0.538  ...  296.0     15.3  396.90   4.98  24.0\n",
              "1  0.02731   0.0   7.07     0  0.469  ...  242.0     17.8  396.90   9.14  21.6\n",
              "2  0.02729   0.0   7.07     0  0.469  ...  242.0     17.8  392.83   4.03  34.7\n",
              "3  0.03237   0.0   2.18     0  0.458  ...  222.0     18.7  394.63   2.94  33.4\n",
              "4  0.06905   0.0   2.18     0  0.458  ...  222.0     18.7  396.90   5.33  36.2\n",
              "5  0.02985   0.0   2.18     0  0.458  ...  222.0     18.7  394.12   5.21  28.7\n",
              "6  0.08829  12.5   7.87     0  0.524  ...  311.0     15.2  395.60  12.43  22.9\n",
              "7  0.14455  12.5   7.87     0  0.524  ...  311.0     15.2  396.90  19.15  27.1\n",
              "8  0.21124  12.5   7.87     0  0.524  ...  311.0     15.2  386.63  29.93  16.5\n",
              "9  0.17004  12.5   7.87     0  0.524  ...  311.0     15.2  386.71  17.10  18.9\n",
              "\n",
              "[10 rows x 14 columns]"
            ]
          },
          "metadata": {
            "tags": []
          },
          "execution_count": 88
        }
      ]
    },
    {
      "cell_type": "code",
      "metadata": {
        "id": "GwBe_7j8QhYh",
        "colab_type": "code",
        "colab": {
          "base_uri": "https://localhost:8080/",
          "height": 347
        },
        "outputId": "81a09338-b536-4dc9-9757-25372f12326a"
      },
      "source": [
        "housing.info()"
      ],
      "execution_count": 89,
      "outputs": [
        {
          "output_type": "stream",
          "text": [
            "<class 'pandas.core.frame.DataFrame'>\n",
            "RangeIndex: 506 entries, 0 to 505\n",
            "Data columns (total 14 columns):\n",
            "CRIM       506 non-null float64\n",
            "ZN         506 non-null float64\n",
            "INDUS      506 non-null float64\n",
            "CHAS       506 non-null int64\n",
            "NOX        506 non-null float64\n",
            "RM         506 non-null float64\n",
            "AGE        506 non-null float64\n",
            "DIS        506 non-null float64\n",
            "RAD        506 non-null int64\n",
            "TAX        506 non-null float64\n",
            "PTRATIO    506 non-null float64\n",
            "B          506 non-null float64\n",
            "LSTAT      506 non-null float64\n",
            "MEDV       506 non-null float64\n",
            "dtypes: float64(12), int64(2)\n",
            "memory usage: 55.5 KB\n"
          ],
          "name": "stdout"
        }
      ]
    },
    {
      "cell_type": "code",
      "metadata": {
        "id": "9h8JXkJyUrm5",
        "colab_type": "code",
        "colab": {
          "base_uri": "https://localhost:8080/",
          "height": 314
        },
        "outputId": "ab33e4e0-4ebc-4005-c554-cf53b2cc8cf2"
      },
      "source": [
        "housing.describe()"
      ],
      "execution_count": 90,
      "outputs": [
        {
          "output_type": "execute_result",
          "data": {
            "text/html": [
              "<div>\n",
              "<style scoped>\n",
              "    .dataframe tbody tr th:only-of-type {\n",
              "        vertical-align: middle;\n",
              "    }\n",
              "\n",
              "    .dataframe tbody tr th {\n",
              "        vertical-align: top;\n",
              "    }\n",
              "\n",
              "    .dataframe thead th {\n",
              "        text-align: right;\n",
              "    }\n",
              "</style>\n",
              "<table border=\"1\" class=\"dataframe\">\n",
              "  <thead>\n",
              "    <tr style=\"text-align: right;\">\n",
              "      <th></th>\n",
              "      <th>CRIM</th>\n",
              "      <th>ZN</th>\n",
              "      <th>INDUS</th>\n",
              "      <th>CHAS</th>\n",
              "      <th>NOX</th>\n",
              "      <th>RM</th>\n",
              "      <th>AGE</th>\n",
              "      <th>DIS</th>\n",
              "      <th>RAD</th>\n",
              "      <th>TAX</th>\n",
              "      <th>PTRATIO</th>\n",
              "      <th>B</th>\n",
              "      <th>LSTAT</th>\n",
              "      <th>MEDV</th>\n",
              "    </tr>\n",
              "  </thead>\n",
              "  <tbody>\n",
              "    <tr>\n",
              "      <th>count</th>\n",
              "      <td>506.000000</td>\n",
              "      <td>506.000000</td>\n",
              "      <td>506.000000</td>\n",
              "      <td>506.000000</td>\n",
              "      <td>506.000000</td>\n",
              "      <td>506.000000</td>\n",
              "      <td>506.000000</td>\n",
              "      <td>506.000000</td>\n",
              "      <td>506.000000</td>\n",
              "      <td>506.000000</td>\n",
              "      <td>506.000000</td>\n",
              "      <td>506.000000</td>\n",
              "      <td>506.000000</td>\n",
              "      <td>506.000000</td>\n",
              "    </tr>\n",
              "    <tr>\n",
              "      <th>mean</th>\n",
              "      <td>3.613524</td>\n",
              "      <td>11.363636</td>\n",
              "      <td>11.136779</td>\n",
              "      <td>0.069170</td>\n",
              "      <td>0.554695</td>\n",
              "      <td>6.284634</td>\n",
              "      <td>68.574901</td>\n",
              "      <td>3.795043</td>\n",
              "      <td>9.549407</td>\n",
              "      <td>408.237154</td>\n",
              "      <td>18.455534</td>\n",
              "      <td>356.674032</td>\n",
              "      <td>12.653063</td>\n",
              "      <td>22.532806</td>\n",
              "    </tr>\n",
              "    <tr>\n",
              "      <th>std</th>\n",
              "      <td>8.601545</td>\n",
              "      <td>23.322453</td>\n",
              "      <td>6.860353</td>\n",
              "      <td>0.253994</td>\n",
              "      <td>0.115878</td>\n",
              "      <td>0.702617</td>\n",
              "      <td>28.148861</td>\n",
              "      <td>2.105710</td>\n",
              "      <td>8.707259</td>\n",
              "      <td>168.537116</td>\n",
              "      <td>2.164946</td>\n",
              "      <td>91.294864</td>\n",
              "      <td>7.141062</td>\n",
              "      <td>9.197104</td>\n",
              "    </tr>\n",
              "    <tr>\n",
              "      <th>min</th>\n",
              "      <td>0.006320</td>\n",
              "      <td>0.000000</td>\n",
              "      <td>0.460000</td>\n",
              "      <td>0.000000</td>\n",
              "      <td>0.385000</td>\n",
              "      <td>3.561000</td>\n",
              "      <td>2.900000</td>\n",
              "      <td>1.129600</td>\n",
              "      <td>1.000000</td>\n",
              "      <td>187.000000</td>\n",
              "      <td>12.600000</td>\n",
              "      <td>0.320000</td>\n",
              "      <td>1.730000</td>\n",
              "      <td>5.000000</td>\n",
              "    </tr>\n",
              "    <tr>\n",
              "      <th>25%</th>\n",
              "      <td>0.082045</td>\n",
              "      <td>0.000000</td>\n",
              "      <td>5.190000</td>\n",
              "      <td>0.000000</td>\n",
              "      <td>0.449000</td>\n",
              "      <td>5.885500</td>\n",
              "      <td>45.025000</td>\n",
              "      <td>2.100175</td>\n",
              "      <td>4.000000</td>\n",
              "      <td>279.000000</td>\n",
              "      <td>17.400000</td>\n",
              "      <td>375.377500</td>\n",
              "      <td>6.950000</td>\n",
              "      <td>17.025000</td>\n",
              "    </tr>\n",
              "    <tr>\n",
              "      <th>50%</th>\n",
              "      <td>0.256510</td>\n",
              "      <td>0.000000</td>\n",
              "      <td>9.690000</td>\n",
              "      <td>0.000000</td>\n",
              "      <td>0.538000</td>\n",
              "      <td>6.208500</td>\n",
              "      <td>77.500000</td>\n",
              "      <td>3.207450</td>\n",
              "      <td>5.000000</td>\n",
              "      <td>330.000000</td>\n",
              "      <td>19.050000</td>\n",
              "      <td>391.440000</td>\n",
              "      <td>11.360000</td>\n",
              "      <td>21.200000</td>\n",
              "    </tr>\n",
              "    <tr>\n",
              "      <th>75%</th>\n",
              "      <td>3.677082</td>\n",
              "      <td>12.500000</td>\n",
              "      <td>18.100000</td>\n",
              "      <td>0.000000</td>\n",
              "      <td>0.624000</td>\n",
              "      <td>6.623500</td>\n",
              "      <td>94.075000</td>\n",
              "      <td>5.188425</td>\n",
              "      <td>24.000000</td>\n",
              "      <td>666.000000</td>\n",
              "      <td>20.200000</td>\n",
              "      <td>396.225000</td>\n",
              "      <td>16.955000</td>\n",
              "      <td>25.000000</td>\n",
              "    </tr>\n",
              "    <tr>\n",
              "      <th>max</th>\n",
              "      <td>88.976200</td>\n",
              "      <td>100.000000</td>\n",
              "      <td>27.740000</td>\n",
              "      <td>1.000000</td>\n",
              "      <td>0.871000</td>\n",
              "      <td>8.780000</td>\n",
              "      <td>100.000000</td>\n",
              "      <td>12.126500</td>\n",
              "      <td>24.000000</td>\n",
              "      <td>711.000000</td>\n",
              "      <td>22.000000</td>\n",
              "      <td>396.900000</td>\n",
              "      <td>37.970000</td>\n",
              "      <td>50.000000</td>\n",
              "    </tr>\n",
              "  </tbody>\n",
              "</table>\n",
              "</div>"
            ],
            "text/plain": [
              "             CRIM          ZN       INDUS  ...           B       LSTAT        MEDV\n",
              "count  506.000000  506.000000  506.000000  ...  506.000000  506.000000  506.000000\n",
              "mean     3.613524   11.363636   11.136779  ...  356.674032   12.653063   22.532806\n",
              "std      8.601545   23.322453    6.860353  ...   91.294864    7.141062    9.197104\n",
              "min      0.006320    0.000000    0.460000  ...    0.320000    1.730000    5.000000\n",
              "25%      0.082045    0.000000    5.190000  ...  375.377500    6.950000   17.025000\n",
              "50%      0.256510    0.000000    9.690000  ...  391.440000   11.360000   21.200000\n",
              "75%      3.677082   12.500000   18.100000  ...  396.225000   16.955000   25.000000\n",
              "max     88.976200  100.000000   27.740000  ...  396.900000   37.970000   50.000000\n",
              "\n",
              "[8 rows x 14 columns]"
            ]
          },
          "metadata": {
            "tags": []
          },
          "execution_count": 90
        }
      ]
    },
    {
      "cell_type": "code",
      "metadata": {
        "id": "cNHhXMREU7Wd",
        "colab_type": "code",
        "colab": {
          "base_uri": "https://localhost:8080/",
          "height": 1000
        },
        "outputId": "ee83f523-3ebf-4cb4-ca37-657e0dd0253b"
      },
      "source": [
        "%matplotlib inline\n",
        "import matplotlib.pyplot as plt\n",
        "housing.hist(bins=50, figsize=(20,15))\n",
        "save_fig(\"attribute_histogram_plots\")\n",
        "plt.show()"
      ],
      "execution_count": 91,
      "outputs": [
        {
          "output_type": "stream",
          "text": [
            "Saving figure attribute_histogram_plots\n"
          ],
          "name": "stdout"
        },
        {
          "output_type": "display_data",
          "data": {
            "image/png": "[encoded data removed]",
            "text/plain": [
              "<Figure size 1440x1080 with 16 Axes>"
            ]
          },
          "metadata": {
            "tags": []
          }
        }
      ]
    },
    {
      "cell_type": "markdown",
      "metadata": {
        "id": "z_tMDFlMY0Us",
        "colab_type": "text"
      },
      "source": [
        "Since this data set is so small, it is better to do stratified sampling. The stratification will be based on MEDV, the median housing value, since that is what we are trying to predict."
      ]
    },
    {
      "cell_type": "code",
      "metadata": {
        "id": "TAoF6agCaNVV",
        "colab_type": "code",
        "colab": {
          "base_uri": "https://localhost:8080/",
          "height": 289
        },
        "outputId": "bc66c50f-d4e4-4f34-b800-ff4a3a2cc8dd"
      },
      "source": [
        "housing[\"MEDV\"].hist()"
      ],
      "execution_count": 92,
      "outputs": [
        {
          "output_type": "execute_result",
          "data": {
            "text/plain": [
              "<matplotlib.axes._subplots.AxesSubplot at 0x7fe51af04278>"
            ]
          },
          "metadata": {
            "tags": []
          },
          "execution_count": 92
        },
        {
          "output_type": "display_data",
          "data": {
            "image/png": "[encoded data removed]",
            "text/plain": [
              "<Figure size 432x288 with 1 Axes>"
            ]
          },
          "metadata": {
            "tags": []
          }
        }
      ]
    },
    {
      "cell_type": "markdown",
      "metadata": {
        "id": "-bFSWXe2bfGs",
        "colab_type": "text"
      },
      "source": [
        "To break this data up better, split the bins with an upper bound at 500, "
      ]
    },
    {
      "cell_type": "code",
      "metadata": {
        "id": "Wv4-TS6sbdg1",
        "colab_type": "code",
        "colab": {}
      },
      "source": [
        "housing[\"value_cat\"] = pd.cut(housing[\"MEDV\"], \n",
        "                               bins = [0, 10, 20, 30, 40, np.inf],\n",
        "                               labels = [1, 2, 3, 4, 5])"
      ],
      "execution_count": 0,
      "outputs": []
    },
    {
      "cell_type": "code",
      "metadata": {
        "id": "H3Yddb0Gemv7",
        "colab_type": "code",
        "colab": {
          "base_uri": "https://localhost:8080/",
          "height": 121
        },
        "outputId": "09437a25-bf13-454b-b864-7b8d36dc5a6d"
      },
      "source": [
        "housing[\"value_cat\"].value_counts()"
      ],
      "execution_count": 94,
      "outputs": [
        {
          "output_type": "execute_result",
          "data": {
            "text/plain": [
              "3    207\n",
              "2    191\n",
              "4     53\n",
              "5     31\n",
              "1     24\n",
              "Name: value_cat, dtype: int64"
            ]
          },
          "metadata": {
            "tags": []
          },
          "execution_count": 94
        }
      ]
    },
    {
      "cell_type": "code",
      "metadata": {
        "id": "O2SvZWlNe0dl",
        "colab_type": "code",
        "colab": {
          "base_uri": "https://localhost:8080/",
          "height": 285
        },
        "outputId": "514aebb8-1dc0-4d06-b916-bf761c36f068"
      },
      "source": [
        "housing[\"value_cat\"].hist()"
      ],
      "execution_count": 95,
      "outputs": [
        {
          "output_type": "execute_result",
          "data": {
            "text/plain": [
              "<matplotlib.axes._subplots.AxesSubplot at 0x7fe51b2ce160>"
            ]
          },
          "metadata": {
            "tags": []
          },
          "execution_count": 95
        },
        {
          "output_type": "display_data",
          "data": {
            "image/png": "[encoded data removed]",
            "text/plain": [
              "<Figure size 432x288 with 1 Axes>"
            ]
          },
          "metadata": {
            "tags": []
          }
        }
      ]
    },
    {
      "cell_type": "code",
      "metadata": {
        "id": "dudep3LTf8ye",
        "colab_type": "code",
        "colab": {}
      },
      "source": [
        "from sklearn.model_selection import StratifiedShuffleSplit\n",
        "\n",
        "split = StratifiedShuffleSplit(n_splits=1, test_size=0.2, random_state=42)\n",
        "for train_index, test_index in split.split(housing, housing[\"value_cat\"]): #value_cat\n",
        "    strat_train_set = housing.loc[train_index]\n",
        "    strat_test_set = housing.loc[test_index]"
      ],
      "execution_count": 0,
      "outputs": []
    },
    {
      "cell_type": "code",
      "metadata": {
        "id": "LNH0Qu30gDGG",
        "colab_type": "code",
        "colab": {
          "base_uri": "https://localhost:8080/",
          "height": 121
        },
        "outputId": "d90a58da-94f8-4186-e95d-523d94fd2ef3"
      },
      "source": [
        "strat_test_set[\"value_cat\"].value_counts() / len(strat_test_set)"
      ],
      "execution_count": 97,
      "outputs": [
        {
          "output_type": "execute_result",
          "data": {
            "text/plain": [
              "3    0.411765\n",
              "2    0.372549\n",
              "4    0.107843\n",
              "5    0.058824\n",
              "1    0.049020\n",
              "Name: value_cat, dtype: float64"
            ]
          },
          "metadata": {
            "tags": []
          },
          "execution_count": 97
        }
      ]
    },
    {
      "cell_type": "code",
      "metadata": {
        "id": "lziRS3z6gD3e",
        "colab_type": "code",
        "colab": {
          "base_uri": "https://localhost:8080/",
          "height": 121
        },
        "outputId": "2cd2eced-3671-4a27-b96e-3b49e6863ec1"
      },
      "source": [
        "housing[\"value_cat\"].value_counts() / len(housing)"
      ],
      "execution_count": 98,
      "outputs": [
        {
          "output_type": "execute_result",
          "data": {
            "text/plain": [
              "3    0.409091\n",
              "2    0.377470\n",
              "4    0.104743\n",
              "5    0.061265\n",
              "1    0.047431\n",
              "Name: value_cat, dtype: float64"
            ]
          },
          "metadata": {
            "tags": []
          },
          "execution_count": 98
        }
      ]
    },
    {
      "cell_type": "markdown",
      "metadata": {
        "id": "-W3YoaO3jpUz",
        "colab_type": "text"
      },
      "source": [
        "# Discover and Visualize"
      ]
    },
    {
      "cell_type": "code",
      "metadata": {
        "id": "uPki9GrxjTaC",
        "colab_type": "code",
        "colab": {}
      },
      "source": [
        "housing = strat_train_set.copy()"
      ],
      "execution_count": 0,
      "outputs": []
    },
    {
      "cell_type": "code",
      "metadata": {
        "id": "05fuU9yHuNH7",
        "colab_type": "code",
        "colab": {
          "base_uri": "https://localhost:8080/",
          "height": 1000
        },
        "outputId": "a7d80626-a159-46a8-ea16-c361e12cd3cc"
      },
      "source": [
        "from pandas.plotting import scatter_matrix\n",
        "scatter_matrix(housing, alpha=0.4)"
      ],
      "execution_count": 100,
      "outputs": [
        {
          "output_type": "execute_result",
          "data": {
            "text/plain": [
              "array([[<matplotlib.axes._subplots.AxesSubplot object at 0x7fe51a4cfeb8>,\n",
              "        <matplotlib.axes._subplots.AxesSubplot object at 0x7fe51a483278>,\n",
              "        <matplotlib.axes._subplots.AxesSubplot object at 0x7fe51a4337f0>,\n",
              "        <matplotlib.axes._subplots.AxesSubplot object at 0x7fe51a3e4da0>,\n",
              "        <matplotlib.axes._subplots.AxesSubplot object at 0x7fe51a3a2390>,\n",
              "        <matplotlib.axes._subplots.AxesSubplot object at 0x7fe51a351940>,\n",
              "        <matplotlib.axes._subplots.AxesSubplot object at 0x7fe51a384ef0>,\n",
              "        <matplotlib.axes._subplots.AxesSubplot object at 0x7fe51a341518>,\n",
              "        <matplotlib.axes._subplots.AxesSubplot object at 0x7fe51a341550>,\n",
              "        <matplotlib.axes._subplots.AxesSubplot object at 0x7fe51a2b0080>,\n",
              "        <matplotlib.axes._subplots.AxesSubplot object at 0x7fe51a25f630>,\n",
              "        <matplotlib.axes._subplots.AxesSubplot object at 0x7fe51a212be0>,\n",
              "        <matplotlib.axes._subplots.AxesSubplot object at 0x7fe51a1d01d0>,\n",
              "        <matplotlib.axes._subplots.AxesSubplot object at 0x7fe51a201780>],\n",
              "       [<matplotlib.axes._subplots.AxesSubplot object at 0x7fe51a1b4d30>,\n",
              "        <matplotlib.axes._subplots.AxesSubplot object at 0x7fe51a170320>,\n",
              "        <matplotlib.axes._subplots.AxesSubplot object at 0x7fe51a1208d0>,\n",
              "        <matplotlib.axes._subplots.AxesSubplot object at 0x7fe51a0d2e80>,\n",
              "        <matplotlib.axes._subplots.AxesSubplot object at 0x7fe51a090470>,\n",
              "        <matplotlib.axes._subplots.AxesSubplot object at 0x7fe51a0bfa20>,\n",
              "        <matplotlib.axes._subplots.AxesSubplot object at 0x7fe51a073fd0>,\n",
              "        <matplotlib.axes._subplots.AxesSubplot object at 0x7fe51a02f5c0>,\n",
              "        <matplotlib.axes._subplots.AxesSubplot object at 0x7fe519fdfb70>,\n",
              "        <matplotlib.axes._subplots.AxesSubplot object at 0x7fe519f9f160>,\n",
              "        <matplotlib.axes._subplots.AxesSubplot object at 0x7fe519fcf710>,\n",
              "        <matplotlib.axes._subplots.AxesSubplot object at 0x7fe519f80cc0>,\n",
              "        <matplotlib.axes._subplots.AxesSubplot object at 0x7fe519f3c2b0>,\n",
              "        <matplotlib.axes._subplots.AxesSubplot object at 0x7fe519eed860>],\n",
              "       [<matplotlib.axes._subplots.AxesSubplot object at 0x7fe519ea1e10>,\n",
              "        <matplotlib.axes._subplots.AxesSubplot object at 0x7fe519e5d400>,\n",
              "        <matplotlib.axes._subplots.AxesSubplot object at 0x7fe519e8f9b0>,\n",
              "        <matplotlib.axes._subplots.AxesSubplot object at 0x7fe519e3ff60>,\n",
              "        <matplotlib.axes._subplots.AxesSubplot object at 0x7fe519dfd550>,\n",
              "        <matplotlib.axes._subplots.AxesSubplot object at 0x7fe519dadb00>,\n",
              "        <matplotlib.axes._subplots.AxesSubplot object at 0x7fe519d6a0f0>,\n",
              "        <matplotlib.axes._subplots.AxesSubplot object at 0x7fe519d1e6a0>,\n",
              "        <matplotlib.axes._subplots.AxesSubplot object at 0x7fe519d4ec50>,\n",
              "        <matplotlib.axes._subplots.AxesSubplot object at 0x7fe519d0c240>,\n",
              "        <matplotlib.axes._subplots.AxesSubplot object at 0x7fe519cbe7f0>,\n",
              "        <matplotlib.axes._subplots.AxesSubplot object at 0x7fe519c6fda0>,\n",
              "        <matplotlib.axes._subplots.AxesSubplot object at 0x7fe519c2d390>,\n",
              "        <matplotlib.axes._subplots.AxesSubplot object at 0x7fe519bdc940>],\n",
              "       [<matplotlib.axes._subplots.AxesSubplot object at 0x7fe519b90ef0>,\n",
              "        <matplotlib.axes._subplots.AxesSubplot object at 0x7fe519bcc4e0>,\n",
              "        <matplotlib.axes._subplots.AxesSubplot object at 0x7fe519b7da90>,\n",
              "        <matplotlib.axes._subplots.AxesSubplot object at 0x7fe519b3b080>,\n",
              "        <matplotlib.axes._subplots.AxesSubplot object at 0x7fe519ae8630>,\n",
              "        <matplotlib.axes._subplots.AxesSubplot object at 0x7fe519a9dbe0>,\n",
              "        <matplotlib.axes._subplots.AxesSubplot object at 0x7fe519a5b1d0>,\n",
              "        <matplotlib.axes._subplots.AxesSubplot object at 0x7fe519a89780>,\n",
              "        <matplotlib.axes._subplots.AxesSubplot object at 0x7fe519a3cd30>,\n",
              "        <matplotlib.axes._subplots.AxesSubplot object at 0x7fe5199fa320>,\n",
              "        <matplotlib.axes._subplots.AxesSubplot object at 0x7fe5199a98d0>,\n",
              "        <matplotlib.axes._subplots.AxesSubplot object at 0x7fe51995ce80>,\n",
              "        <matplotlib.axes._subplots.AxesSubplot object at 0x7fe519918470>,\n",
              "        <matplotlib.axes._subplots.AxesSubplot object at 0x7fe519949a20>],\n",
              "       [<matplotlib.axes._subplots.AxesSubplot object at 0x7fe5198fefd0>,\n",
              "        <matplotlib.axes._subplots.AxesSubplot object at 0x7fe5198b95c0>,\n",
              "        <matplotlib.axes._subplots.AxesSubplot object at 0x7fe51986bb70>,\n",
              "        <matplotlib.axes._subplots.AxesSubplot object at 0x7fe519829160>,\n",
              "        <matplotlib.axes._subplots.AxesSubplot object at 0x7fe5197d9710>,\n",
              "        <matplotlib.axes._subplots.AxesSubplot object at 0x7fe51980bcc0>,\n",
              "        <matplotlib.axes._subplots.AxesSubplot object at 0x7fe5197c82b0>,\n",
              "        <matplotlib.axes._subplots.AxesSubplot object at 0x7fe519777860>,\n",
              "        <matplotlib.axes._subplots.AxesSubplot object at 0x7fe51972ae10>,\n",
              "        <matplotlib.axes._subplots.AxesSubplot object at 0x7fe5196e8400>,\n",
              "        <matplotlib.axes._subplots.AxesSubplot object at 0x7fe5196989b0>,\n",
              "        <matplotlib.axes._subplots.AxesSubplot object at 0x7fe5196ccf60>,\n",
              "        <matplotlib.axes._subplots.AxesSubplot object at 0x7fe519688550>,\n",
              "        <matplotlib.axes._subplots.AxesSubplot object at 0x7fe519637b00>],\n",
              "       [<matplotlib.axes._subplots.AxesSubplot object at 0x7fe5195f70f0>,\n",
              "        <matplotlib.axes._subplots.AxesSubplot object at 0x7fe5195a56a0>,\n",
              "        <matplotlib.axes._subplots.AxesSubplot object at 0x7fe519557c50>,\n",
              "        <matplotlib.axes._subplots.AxesSubplot object at 0x7fe519515240>,\n",
              "        <matplotlib.axes._subplots.AxesSubplot object at 0x7fe5195457f0>,\n",
              "        <matplotlib.axes._subplots.AxesSubplot object at 0x7fe5194f6da0>,\n",
              "        <matplotlib.axes._subplots.AxesSubplot object at 0x7fe5194b5390>,\n",
              "        <matplotlib.axes._subplots.AxesSubplot object at 0x7fe519465940>,\n",
              "        <matplotlib.axes._subplots.AxesSubplot object at 0x7fe519417ef0>,\n",
              "        <matplotlib.axes._subplots.AxesSubplot object at 0x7fe5193d54e0>,\n",
              "        <matplotlib.axes._subplots.AxesSubplot object at 0x7fe519406a90>,\n",
              "        <matplotlib.axes._subplots.AxesSubplot object at 0x7fe5193c4080>,\n",
              "        <matplotlib.axes._subplots.AxesSubplot object at 0x7fe519375630>,\n",
              "        <matplotlib.axes._subplots.AxesSubplot object at 0x7fe519326be0>],\n",
              "       [<matplotlib.axes._subplots.AxesSubplot object at 0x7fe5192e41d0>,\n",
              "        <matplotlib.axes._subplots.AxesSubplot object at 0x7fe519295780>,\n",
              "        <matplotlib.axes._subplots.AxesSubplot object at 0x7fe5192c6d30>,\n",
              "        <matplotlib.axes._subplots.AxesSubplot object at 0x7fe519283320>,\n",
              "        <matplotlib.axes._subplots.AxesSubplot object at 0x7fe5192348d0>,\n",
              "        <matplotlib.axes._subplots.AxesSubplot object at 0x7fe5191e5e80>,\n",
              "        <matplotlib.axes._subplots.AxesSubplot object at 0x7fe5191a2470>,\n",
              "        <matplotlib.axes._subplots.AxesSubplot object at 0x7fe519154a20>,\n",
              "        <matplotlib.axes._subplots.AxesSubplot object at 0x7fe519187fd0>,\n",
              "        <matplotlib.axes._subplots.AxesSubplot object at 0x7fe5191435c0>,\n",
              "        <matplotlib.axes._subplots.AxesSubplot object at 0x7fe5190f4b70>,\n",
              "        <matplotlib.axes._subplots.AxesSubplot object at 0x7fe5190b3160>,\n",
              "        <matplotlib.axes._subplots.AxesSubplot object at 0x7fe519063710>,\n",
              "        <matplotlib.axes._subplots.AxesSubplot object at 0x7fe519013cc0>],\n",
              "       [<matplotlib.axes._subplots.AxesSubplot object at 0x7fe51904f2b0>,\n",
              "        <matplotlib.axes._subplots.AxesSubplot object at 0x7fe51e69add8>,\n",
              "        <matplotlib.axes._subplots.AxesSubplot object at 0x7fe51aeaa4e0>,\n",
              "        <matplotlib.axes._subplots.AxesSubplot object at 0x7fe51b0d3a90>,\n",
              "        <matplotlib.axes._subplots.AxesSubplot object at 0x7fe51b2c0780>,\n",
              "        <matplotlib.axes._subplots.AxesSubplot object at 0x7fe51ab230f0>,\n",
              "        <matplotlib.axes._subplots.AxesSubplot object at 0x7fe51a99fd30>,\n",
              "        <matplotlib.axes._subplots.AxesSubplot object at 0x7fe51a9704e0>,\n",
              "        <matplotlib.axes._subplots.AxesSubplot object at 0x7fe51a870358>,\n",
              "        <matplotlib.axes._subplots.AxesSubplot object at 0x7fe51a584dd8>,\n",
              "        <matplotlib.axes._subplots.AxesSubplot object at 0x7fe51a5554e0>,\n",
              "        <matplotlib.axes._subplots.AxesSubplot object at 0x7fe51a8339e8>,\n",
              "        <matplotlib.axes._subplots.AxesSubplot object at 0x7fe51a5be438>,\n",
              "        <matplotlib.axes._subplots.AxesSubplot object at 0x7fe51aed1080>],\n",
              "       [<matplotlib.axes._subplots.AxesSubplot object at 0x7fe51aa62a90>,\n",
              "        <matplotlib.axes._subplots.AxesSubplot object at 0x7fe51a861b38>,\n",
              "        <matplotlib.axes._subplots.AxesSubplot object at 0x7fe51a9e9748>,\n",
              "        <matplotlib.axes._subplots.AxesSubplot object at 0x7fe51a6d4978>,\n",
              "        <matplotlib.axes._subplots.AxesSubplot object at 0x7fe51a697400>,\n",
              "        <matplotlib.axes._subplots.AxesSubplot object at 0x7fe51a73fb70>,\n",
              "        <matplotlib.axes._subplots.AxesSubplot object at 0x7fe51aae7d68>,\n",
              "        <matplotlib.axes._subplots.AxesSubplot object at 0x7fe51a6b0198>,\n",
              "        <matplotlib.axes._subplots.AxesSubplot object at 0x7fe51a5e4748>,\n",
              "        <matplotlib.axes._subplots.AxesSubplot object at 0x7fe51aa7acf8>,\n",
              "        <matplotlib.axes._subplots.AxesSubplot object at 0x7fe51a9b72e8>,\n",
              "        <matplotlib.axes._subplots.AxesSubplot object at 0x7fe51aade898>,\n",
              "        <matplotlib.axes._subplots.AxesSubplot object at 0x7fe51abefe48>,\n",
              "        <matplotlib.axes._subplots.AxesSubplot object at 0x7fe51a96f438>],\n",
              "       [<matplotlib.axes._subplots.AxesSubplot object at 0x7fe51ab5c9e8>,\n",
              "        <matplotlib.axes._subplots.AxesSubplot object at 0x7fe51aa25f98>,\n",
              "        <matplotlib.axes._subplots.AxesSubplot object at 0x7fe51a633588>,\n",
              "        <matplotlib.axes._subplots.AxesSubplot object at 0x7fe51a9d4b38>,\n",
              "        <matplotlib.axes._subplots.AxesSubplot object at 0x7fe51abc9128>,\n",
              "        <matplotlib.axes._subplots.AxesSubplot object at 0x7fe51ac216d8>,\n",
              "        <matplotlib.axes._subplots.AxesSubplot object at 0x7fe51aaa6c88>,\n",
              "        <matplotlib.axes._subplots.AxesSubplot object at 0x7fe51a684278>,\n",
              "        <matplotlib.axes._subplots.AxesSubplot object at 0x7fe51ad7a828>,\n",
              "        <matplotlib.axes._subplots.AxesSubplot object at 0x7fe51a7469e8>,\n",
              "        <matplotlib.axes._subplots.AxesSubplot object at 0x7fe51a9273c8>,\n",
              "        <matplotlib.axes._subplots.AxesSubplot object at 0x7fe51ac82978>,\n",
              "        <matplotlib.axes._subplots.AxesSubplot object at 0x7fe51aca7f28>,\n",
              "        <matplotlib.axes._subplots.AxesSubplot object at 0x7fe51ae10518>],\n",
              "       [<matplotlib.axes._subplots.AxesSubplot object at 0x7fe51aecfac8>,\n",
              "        <matplotlib.axes._subplots.AxesSubplot object at 0x7fe51a767da0>,\n",
              "        <matplotlib.axes._subplots.AxesSubplot object at 0x7fe51ad26668>,\n",
              "        <matplotlib.axes._subplots.AxesSubplot object at 0x7fe51a7a8c18>,\n",
              "        <matplotlib.axes._subplots.AxesSubplot object at 0x7fe51ae72208>,\n",
              "        <matplotlib.axes._subplots.AxesSubplot object at 0x7fe51ada27b8>,\n",
              "        <matplotlib.axes._subplots.AxesSubplot object at 0x7fe51b22ed68>,\n",
              "        <matplotlib.axes._subplots.AxesSubplot object at 0x7fe51b0f3358>,\n",
              "        <matplotlib.axes._subplots.AxesSubplot object at 0x7fe51afa4908>,\n",
              "        <matplotlib.axes._subplots.AxesSubplot object at 0x7fe51af223c8>,\n",
              "        <matplotlib.axes._subplots.AxesSubplot object at 0x7fe51b013518>,\n",
              "        <matplotlib.axes._subplots.AxesSubplot object at 0x7fe51b012a58>,\n",
              "        <matplotlib.axes._subplots.AxesSubplot object at 0x7fe51b07b048>,\n",
              "        <matplotlib.axes._subplots.AxesSubplot object at 0x7fe51b0a95f8>],\n",
              "       [<matplotlib.axes._subplots.AxesSubplot object at 0x7fe51b206ba8>,\n",
              "        <matplotlib.axes._subplots.AxesSubplot object at 0x7fe51b132198>,\n",
              "        <matplotlib.axes._subplots.AxesSubplot object at 0x7fe51af85748>,\n",
              "        <matplotlib.axes._subplots.AxesSubplot object at 0x7fe51b009cf8>,\n",
              "        <matplotlib.axes._subplots.AxesSubplot object at 0x7fe51b1772e8>,\n",
              "        <matplotlib.axes._subplots.AxesSubplot object at 0x7fe51b166898>,\n",
              "        <matplotlib.axes._subplots.AxesSubplot object at 0x7fe51b1a2e48>,\n",
              "        <matplotlib.axes._subplots.AxesSubplot object at 0x7fe518fb5438>,\n",
              "        <matplotlib.axes._subplots.AxesSubplot object at 0x7fe518f659e8>,\n",
              "        <matplotlib.axes._subplots.AxesSubplot object at 0x7fe518f1af98>,\n",
              "        <matplotlib.axes._subplots.AxesSubplot object at 0x7fe518ed6588>,\n",
              "        <matplotlib.axes._subplots.AxesSubplot object at 0x7fe518f06b38>,\n",
              "        <matplotlib.axes._subplots.AxesSubplot object at 0x7fe518ec4128>,\n",
              "        <matplotlib.axes._subplots.AxesSubplot object at 0x7fe518e736d8>],\n",
              "       [<matplotlib.axes._subplots.AxesSubplot object at 0x7fe518e25c88>,\n",
              "        <matplotlib.axes._subplots.AxesSubplot object at 0x7fe518de3278>,\n",
              "        <matplotlib.axes._subplots.AxesSubplot object at 0x7fe518d94828>,\n",
              "        <matplotlib.axes._subplots.AxesSubplot object at 0x7fe518dc6dd8>,\n",
              "        <matplotlib.axes._subplots.AxesSubplot object at 0x7fe518d823c8>,\n",
              "        <matplotlib.axes._subplots.AxesSubplot object at 0x7fe518d33978>,\n",
              "        <matplotlib.axes._subplots.AxesSubplot object at 0x7fe518ce6f28>,\n",
              "        <matplotlib.axes._subplots.AxesSubplot object at 0x7fe518ca2518>,\n",
              "        <matplotlib.axes._subplots.AxesSubplot object at 0x7fe518c53ac8>,\n",
              "        <matplotlib.axes._subplots.AxesSubplot object at 0x7fe518c120b8>,\n",
              "        <matplotlib.axes._subplots.AxesSubplot object at 0x7fe518c40668>,\n",
              "        <matplotlib.axes._subplots.AxesSubplot object at 0x7fe518bf2c18>,\n",
              "        <matplotlib.axes._subplots.AxesSubplot object at 0x7fe518bb1208>,\n",
              "        <matplotlib.axes._subplots.AxesSubplot object at 0x7fe518b617b8>],\n",
              "       [<matplotlib.axes._subplots.AxesSubplot object at 0x7fe518b13d68>,\n",
              "        <matplotlib.axes._subplots.AxesSubplot object at 0x7fe518ad0358>,\n",
              "        <matplotlib.axes._subplots.AxesSubplot object at 0x7fe518b01908>,\n",
              "        <matplotlib.axes._subplots.AxesSubplot object at 0x7fe518ab6eb8>,\n",
              "        <matplotlib.axes._subplots.AxesSubplot object at 0x7fe518a724a8>,\n",
              "        <matplotlib.axes._subplots.AxesSubplot object at 0x7fe518a23a58>,\n",
              "        <matplotlib.axes._subplots.AxesSubplot object at 0x7fe5189e0048>,\n",
              "        <matplotlib.axes._subplots.AxesSubplot object at 0x7fe5189925f8>,\n",
              "        <matplotlib.axes._subplots.AxesSubplot object at 0x7fe5189c2ba8>,\n",
              "        <matplotlib.axes._subplots.AxesSubplot object at 0x7fe518980198>,\n",
              "        <matplotlib.axes._subplots.AxesSubplot object at 0x7fe51892f748>,\n",
              "        <matplotlib.axes._subplots.AxesSubplot object at 0x7fe5188e1cf8>,\n",
              "        <matplotlib.axes._subplots.AxesSubplot object at 0x7fe51889f2e8>,\n",
              "        <matplotlib.axes._subplots.AxesSubplot object at 0x7fe5188ce898>]],\n",
              "      dtype=object)"
            ]
          },
          "metadata": {
            "tags": []
          },
          "execution_count": 100
        },
        {
          "output_type": "display_data",
          "data": {
            "image/png": "[encoded data removed]",
            "text/plain": [
              "<Figure size 432x288 with 196 Axes>"
            ]
          },
          "metadata": {
            "tags": []
          }
        }
      ]
    },
    {
      "cell_type": "code",
      "metadata": {
        "id": "HduQJHxbqTqg",
        "colab_type": "code",
        "colab": {
          "base_uri": "https://localhost:8080/",
          "height": 277
        },
        "outputId": "92f31719-a3f3-451a-dd30-d2b54b7b560d"
      },
      "source": [
        "corr_matrix = housing.corr()\n",
        "corr_matrix[\"CRIM\"].sort_values(ascending=False)"
      ],
      "execution_count": 101,
      "outputs": [
        {
          "output_type": "execute_result",
          "data": {
            "text/plain": [
              "CRIM       1.000000\n",
              "RAD        0.611260\n",
              "TAX        0.567792\n",
              "LSTAT      0.469413\n",
              "NOX        0.418278\n",
              "INDUS      0.407701\n",
              "AGE        0.355102\n",
              "PTRATIO    0.288743\n",
              "CHAS      -0.047228\n",
              "ZN        -0.203789\n",
              "RM        -0.226962\n",
              "B         -0.339335\n",
              "DIS       -0.374443\n",
              "MEDV      -0.391283\n",
              "Name: CRIM, dtype: float64"
            ]
          },
          "metadata": {
            "tags": []
          },
          "execution_count": 101
        }
      ]
    },
    {
      "cell_type": "code",
      "metadata": {
        "id": "AJODvKiBzrHu",
        "colab_type": "code",
        "colab": {
          "base_uri": "https://localhost:8080/",
          "height": 277
        },
        "outputId": "54728c38-a5a8-44b6-a8e4-c7c691a1b07a"
      },
      "source": [
        "corr_matrix[\"ZN\"].sort_values(ascending=False)"
      ],
      "execution_count": 102,
      "outputs": [
        {
          "output_type": "execute_result",
          "data": {
            "text/plain": [
              "ZN         1.000000\n",
              "DIS        0.661535\n",
              "MEDV       0.375967\n",
              "RM         0.329177\n",
              "B          0.180656\n",
              "CHAS      -0.020796\n",
              "CRIM      -0.203789\n",
              "RAD       -0.323787\n",
              "TAX       -0.335576\n",
              "PTRATIO   -0.374879\n",
              "LSTAT     -0.415362\n",
              "NOX       -0.511900\n",
              "INDUS     -0.535234\n",
              "AGE       -0.552113\n",
              "Name: ZN, dtype: float64"
            ]
          },
          "metadata": {
            "tags": []
          },
          "execution_count": 102
        }
      ]
    },
    {
      "cell_type": "code",
      "metadata": {
        "id": "8brSzQ2QzrEg",
        "colab_type": "code",
        "colab": {
          "base_uri": "https://localhost:8080/",
          "height": 277
        },
        "outputId": "e7236086-9d7f-4530-a63d-f7c0bb411827"
      },
      "source": [
        "corr_matrix[\"INDUS\"].sort_values(ascending=False)"
      ],
      "execution_count": 103,
      "outputs": [
        {
          "output_type": "execute_result",
          "data": {
            "text/plain": [
              "INDUS      1.000000\n",
              "NOX        0.765763\n",
              "TAX        0.744235\n",
              "AGE        0.640691\n",
              "LSTAT      0.613097\n",
              "RAD        0.607606\n",
              "CRIM       0.407701\n",
              "PTRATIO    0.378730\n",
              "CHAS       0.055940\n",
              "B         -0.361714\n",
              "RM        -0.427184\n",
              "MEDV      -0.499120\n",
              "ZN        -0.535234\n",
              "DIS       -0.704890\n",
              "Name: INDUS, dtype: float64"
            ]
          },
          "metadata": {
            "tags": []
          },
          "execution_count": 103
        }
      ]
    },
    {
      "cell_type": "code",
      "metadata": {
        "id": "3rzHWYf6zrDE",
        "colab_type": "code",
        "colab": {
          "base_uri": "https://localhost:8080/",
          "height": 277
        },
        "outputId": "5d21402c-1857-4903-f879-e2fdecf93d2b"
      },
      "source": [
        "corr_matrix[\"CHAS\"].sort_values(ascending=False)"
      ],
      "execution_count": 104,
      "outputs": [
        {
          "output_type": "execute_result",
          "data": {
            "text/plain": [
              "CHAS       1.000000\n",
              "MEDV       0.183854\n",
              "NOX        0.096629\n",
              "AGE        0.090400\n",
              "RM         0.057491\n",
              "INDUS      0.055940\n",
              "B          0.040382\n",
              "RAD       -0.011600\n",
              "ZN        -0.020796\n",
              "TAX       -0.033542\n",
              "CRIM      -0.047228\n",
              "LSTAT     -0.051001\n",
              "DIS       -0.099892\n",
              "PTRATIO   -0.130689\n",
              "Name: CHAS, dtype: float64"
            ]
          },
          "metadata": {
            "tags": []
          },
          "execution_count": 104
        }
      ]
    },
    {
      "cell_type": "code",
      "metadata": {
        "id": "YjQwvSJBzrAa",
        "colab_type": "code",
        "colab": {
          "base_uri": "https://localhost:8080/",
          "height": 277
        },
        "outputId": "e6402784-1f63-4b5b-9a9c-dfd3095827e8"
      },
      "source": [
        "corr_matrix[\"NOX\"].sort_values(ascending=False)"
      ],
      "execution_count": 105,
      "outputs": [
        {
          "output_type": "execute_result",
          "data": {
            "text/plain": [
              "NOX        1.000000\n",
              "INDUS      0.765763\n",
              "AGE        0.740609\n",
              "TAX        0.670252\n",
              "RAD        0.611198\n",
              "LSTAT      0.595718\n",
              "CRIM       0.418278\n",
              "PTRATIO    0.163190\n",
              "CHAS       0.096629\n",
              "RM        -0.336038\n",
              "B         -0.377758\n",
              "MEDV      -0.438384\n",
              "ZN        -0.511900\n",
              "DIS       -0.767043\n",
              "Name: NOX, dtype: float64"
            ]
          },
          "metadata": {
            "tags": []
          },
          "execution_count": 105
        }
      ]
    },
    {
      "cell_type": "code",
      "metadata": {
        "id": "R43aEGo1zq9_",
        "colab_type": "code",
        "colab": {
          "base_uri": "https://localhost:8080/",
          "height": 277
        },
        "outputId": "a588231c-272a-4faa-8d9c-60494e6c9e3b"
      },
      "source": [
        "corr_matrix[\"RM\"].sort_values(ascending=False)"
      ],
      "execution_count": 106,
      "outputs": [
        {
          "output_type": "execute_result",
          "data": {
            "text/plain": [
              "RM         1.000000\n",
              "MEDV       0.679439\n",
              "ZN         0.329177\n",
              "DIS        0.242276\n",
              "B          0.128249\n",
              "CHAS       0.057491\n",
              "CRIM      -0.226962\n",
              "RAD       -0.241231\n",
              "AGE       -0.264507\n",
              "TAX       -0.327459\n",
              "NOX       -0.336038\n",
              "PTRATIO   -0.344911\n",
              "INDUS     -0.427184\n",
              "LSTAT     -0.609371\n",
              "Name: RM, dtype: float64"
            ]
          },
          "metadata": {
            "tags": []
          },
          "execution_count": 106
        }
      ]
    },
    {
      "cell_type": "code",
      "metadata": {
        "id": "zoZ20yGIzq59",
        "colab_type": "code",
        "colab": {
          "base_uri": "https://localhost:8080/",
          "height": 277
        },
        "outputId": "9d18684a-c2d1-4de0-8f8a-0a7e1fa68ff2"
      },
      "source": [
        "corr_matrix[\"AGE\"].sort_values(ascending=False)"
      ],
      "execution_count": 107,
      "outputs": [
        {
          "output_type": "execute_result",
          "data": {
            "text/plain": [
              "AGE        1.000000\n",
              "NOX        0.740609\n",
              "INDUS      0.640691\n",
              "LSTAT      0.613834\n",
              "TAX        0.544165\n",
              "RAD        0.485193\n",
              "CRIM       0.355102\n",
              "PTRATIO    0.244342\n",
              "CHAS       0.090400\n",
              "B         -0.262921\n",
              "RM        -0.264507\n",
              "MEDV      -0.390075\n",
              "ZN        -0.552113\n",
              "DIS       -0.745570\n",
              "Name: AGE, dtype: float64"
            ]
          },
          "metadata": {
            "tags": []
          },
          "execution_count": 107
        }
      ]
    },
    {
      "cell_type": "code",
      "metadata": {
        "id": "7pXjwnmqzq4c",
        "colab_type": "code",
        "colab": {
          "base_uri": "https://localhost:8080/",
          "height": 277
        },
        "outputId": "d557affc-0918-45ab-ec73-d16487e0abf0"
      },
      "source": [
        "corr_matrix[\"DIS\"].sort_values(ascending=False)"
      ],
      "execution_count": 108,
      "outputs": [
        {
          "output_type": "execute_result",
          "data": {
            "text/plain": [
              "DIS        1.000000\n",
              "ZN         0.661535\n",
              "B          0.287711\n",
              "MEDV       0.266088\n",
              "RM         0.242276\n",
              "CHAS      -0.099892\n",
              "PTRATIO   -0.216285\n",
              "CRIM      -0.374443\n",
              "RAD       -0.501769\n",
              "LSTAT     -0.502064\n",
              "TAX       -0.547909\n",
              "INDUS     -0.704890\n",
              "AGE       -0.745570\n",
              "NOX       -0.767043\n",
              "Name: DIS, dtype: float64"
            ]
          },
          "metadata": {
            "tags": []
          },
          "execution_count": 108
        }
      ]
    },
    {
      "cell_type": "code",
      "metadata": {
        "id": "DzhVY4wRzq0P",
        "colab_type": "code",
        "colab": {
          "base_uri": "https://localhost:8080/",
          "height": 277
        },
        "outputId": "b6e55691-736d-4bb9-9301-0fc511748677"
      },
      "source": [
        "corr_matrix[\"RAD\"].sort_values(ascending=False)"
      ],
      "execution_count": 109,
      "outputs": [
        {
          "output_type": "execute_result",
          "data": {
            "text/plain": [
              "RAD        1.000000\n",
              "TAX        0.904387\n",
              "CRIM       0.611260\n",
              "NOX        0.611198\n",
              "INDUS      0.607606\n",
              "LSTAT      0.507866\n",
              "AGE        0.485193\n",
              "PTRATIO    0.482028\n",
              "CHAS      -0.011600\n",
              "RM        -0.241231\n",
              "ZN        -0.323787\n",
              "MEDV      -0.381903\n",
              "B         -0.424323\n",
              "DIS       -0.501769\n",
              "Name: RAD, dtype: float64"
            ]
          },
          "metadata": {
            "tags": []
          },
          "execution_count": 109
        }
      ]
    },
    {
      "cell_type": "code",
      "metadata": {
        "id": "qskCBAIQzqwr",
        "colab_type": "code",
        "colab": {
          "base_uri": "https://localhost:8080/",
          "height": 277
        },
        "outputId": "cd2c72aa-a187-4f06-b60b-0822375de82f"
      },
      "source": [
        "corr_matrix[\"TAX\"].sort_values(ascending=False)"
      ],
      "execution_count": 110,
      "outputs": [
        {
          "output_type": "execute_result",
          "data": {
            "text/plain": [
              "TAX        1.000000\n",
              "RAD        0.904387\n",
              "INDUS      0.744235\n",
              "NOX        0.670252\n",
              "LSTAT      0.568393\n",
              "CRIM       0.567792\n",
              "AGE        0.544165\n",
              "PTRATIO    0.476530\n",
              "CHAS      -0.033542\n",
              "RM        -0.327459\n",
              "ZN        -0.335576\n",
              "B         -0.425326\n",
              "MEDV      -0.477005\n",
              "DIS       -0.547909\n",
              "Name: TAX, dtype: float64"
            ]
          },
          "metadata": {
            "tags": []
          },
          "execution_count": 110
        }
      ]
    },
    {
      "cell_type": "code",
      "metadata": {
        "id": "hbkilD0gzqr4",
        "colab_type": "code",
        "colab": {
          "base_uri": "https://localhost:8080/",
          "height": 277
        },
        "outputId": "d7bea359-1b72-4fd0-ad74-9b30070ad92c"
      },
      "source": [
        "corr_matrix[\"PTRATIO\"].sort_values(ascending=False)"
      ],
      "execution_count": 111,
      "outputs": [
        {
          "output_type": "execute_result",
          "data": {
            "text/plain": [
              "PTRATIO    1.000000\n",
              "RAD        0.482028\n",
              "TAX        0.476530\n",
              "INDUS      0.378730\n",
              "LSTAT      0.357345\n",
              "CRIM       0.288743\n",
              "AGE        0.244342\n",
              "NOX        0.163190\n",
              "CHAS      -0.130689\n",
              "B         -0.157617\n",
              "DIS       -0.216285\n",
              "RM        -0.344911\n",
              "ZN        -0.374879\n",
              "MEDV      -0.483569\n",
              "Name: PTRATIO, dtype: float64"
            ]
          },
          "metadata": {
            "tags": []
          },
          "execution_count": 111
        }
      ]
    },
    {
      "cell_type": "code",
      "metadata": {
        "id": "aBKV5rtgzqja",
        "colab_type": "code",
        "colab": {
          "base_uri": "https://localhost:8080/",
          "height": 277
        },
        "outputId": "6ea2a402-5605-4d1c-8349-fcdabdc08bb2"
      },
      "source": [
        "corr_matrix[\"B\"].sort_values(ascending=False)"
      ],
      "execution_count": 112,
      "outputs": [
        {
          "output_type": "execute_result",
          "data": {
            "text/plain": [
              "B          1.000000\n",
              "MEDV       0.324998\n",
              "DIS        0.287711\n",
              "ZN         0.180656\n",
              "RM         0.128249\n",
              "CHAS       0.040382\n",
              "PTRATIO   -0.157617\n",
              "AGE       -0.262921\n",
              "CRIM      -0.339335\n",
              "INDUS     -0.361714\n",
              "LSTAT     -0.362848\n",
              "NOX       -0.377758\n",
              "RAD       -0.424323\n",
              "TAX       -0.425326\n",
              "Name: B, dtype: float64"
            ]
          },
          "metadata": {
            "tags": []
          },
          "execution_count": 112
        }
      ]
    },
    {
      "cell_type": "code",
      "metadata": {
        "id": "5q0aCKOPzqEi",
        "colab_type": "code",
        "colab": {
          "base_uri": "https://localhost:8080/",
          "height": 277
        },
        "outputId": "c908b102-d70f-4dd4-e22d-977f22e06b1a"
      },
      "source": [
        "corr_matrix[\"LSTAT\"].sort_values(ascending=False)"
      ],
      "execution_count": 113,
      "outputs": [
        {
          "output_type": "execute_result",
          "data": {
            "text/plain": [
              "LSTAT      1.000000\n",
              "AGE        0.613834\n",
              "INDUS      0.613097\n",
              "NOX        0.595718\n",
              "TAX        0.568393\n",
              "RAD        0.507866\n",
              "CRIM       0.469413\n",
              "PTRATIO    0.357345\n",
              "CHAS      -0.051001\n",
              "B         -0.362848\n",
              "ZN        -0.415362\n",
              "DIS       -0.502064\n",
              "RM        -0.609371\n",
              "MEDV      -0.734822\n",
              "Name: LSTAT, dtype: float64"
            ]
          },
          "metadata": {
            "tags": []
          },
          "execution_count": 113
        }
      ]
    },
    {
      "cell_type": "code",
      "metadata": {
        "id": "dACvhZWBz6Wg",
        "colab_type": "code",
        "colab": {
          "base_uri": "https://localhost:8080/",
          "height": 277
        },
        "outputId": "c47fd0e8-ee9a-4526-c482-67f109e7cdcc"
      },
      "source": [
        "corr_matrix[\"MEDV\"].sort_values(ascending=False)"
      ],
      "execution_count": 114,
      "outputs": [
        {
          "output_type": "execute_result",
          "data": {
            "text/plain": [
              "MEDV       1.000000\n",
              "RM         0.679439\n",
              "ZN         0.375967\n",
              "B          0.324998\n",
              "DIS        0.266088\n",
              "CHAS       0.183854\n",
              "RAD       -0.381903\n",
              "AGE       -0.390075\n",
              "CRIM      -0.391283\n",
              "NOX       -0.438384\n",
              "TAX       -0.477005\n",
              "PTRATIO   -0.483569\n",
              "INDUS     -0.499120\n",
              "LSTAT     -0.734822\n",
              "Name: MEDV, dtype: float64"
            ]
          },
          "metadata": {
            "tags": []
          },
          "execution_count": 114
        }
      ]
    },
    {
      "cell_type": "markdown",
      "metadata": {
        "id": "Uz-MHs8I1cPB",
        "colab_type": "text"
      },
      "source": [
        "Take the correlation values that are above 0.65 and visualize them."
      ]
    },
    {
      "cell_type": "code",
      "metadata": {
        "id": "P8kM20PikMYN",
        "colab_type": "code",
        "colab": {
          "base_uri": "https://localhost:8080/",
          "height": 324
        },
        "outputId": "9d9d75d8-1b97-4536-e99d-57f1aef75cb3"
      },
      "source": [
        "housing.plot(kind=\"scatter\", x=\"INDUS\", y=\"NOX\", alpha=0.4,\n",
        "    #c=\"INDUS\", cmap=plt.get_cmap(\"jet\"), colorbar=True,\n",
        "    sharex=False)\n",
        "plt.legend()"
      ],
      "execution_count": 115,
      "outputs": [
        {
          "output_type": "stream",
          "text": [
            "No handles with labels found to put in legend.\n"
          ],
          "name": "stderr"
        },
        {
          "output_type": "execute_result",
          "data": {
            "text/plain": [
              "<matplotlib.legend.Legend at 0x7fe517d88748>"
            ]
          },
          "metadata": {
            "tags": []
          },
          "execution_count": 115
        },
        {
          "output_type": "display_data",
          "data": {
            "image/png": "[encoded data removed]",
            "text/plain": [
              "<Figure size 432x288 with 1 Axes>"
            ]
          },
          "metadata": {
            "tags": []
          }
        }
      ]
    },
    {
      "cell_type": "code",
      "metadata": {
        "id": "_Nx0-_5t1U02",
        "colab_type": "code",
        "colab": {
          "base_uri": "https://localhost:8080/",
          "height": 321
        },
        "outputId": "4ee6e6da-22e7-4d1b-834a-d458d30ef012"
      },
      "source": [
        "housing.plot(kind=\"scatter\", x=\"INDUS\", y=\"TAX\", alpha=0.4,\n",
        "    #c=\"INDUS\", cmap=plt.get_cmap(\"jet\"), colorbar=True,\n",
        "    sharex=False)\n",
        "plt.legend()"
      ],
      "execution_count": 116,
      "outputs": [
        {
          "output_type": "stream",
          "text": [
            "No handles with labels found to put in legend.\n"
          ],
          "name": "stderr"
        },
        {
          "output_type": "execute_result",
          "data": {
            "text/plain": [
              "<matplotlib.legend.Legend at 0x7fe517cad3c8>"
            ]
          },
          "metadata": {
            "tags": []
          },
          "execution_count": 116
        },
        {
          "output_type": "display_data",
          "data": {
            "image/png": "[encoded data removed]",
            "text/plain": [
              "<Figure size 432x288 with 1 Axes>"
            ]
          },
          "metadata": {
            "tags": []
          }
        }
      ]
    },
    {
      "cell_type": "code",
      "metadata": {
        "id": "stm2PDw71Uzg",
        "colab_type": "code",
        "colab": {
          "base_uri": "https://localhost:8080/",
          "height": 321
        },
        "outputId": "14e25f06-c7ae-4ef1-9344-c8a65e9c9909"
      },
      "source": [
        "housing.plot(kind=\"scatter\", x=\"INDUS\", y=\"DIS\", alpha=0.4,\n",
        "    #c=\"INDUS\", cmap=plt.get_cmap(\"jet\"), colorbar=True,\n",
        "    sharex=False)\n",
        "plt.legend()"
      ],
      "execution_count": 117,
      "outputs": [
        {
          "output_type": "stream",
          "text": [
            "No handles with labels found to put in legend.\n"
          ],
          "name": "stderr"
        },
        {
          "output_type": "execute_result",
          "data": {
            "text/plain": [
              "<matplotlib.legend.Legend at 0x7fe517cf1f60>"
            ]
          },
          "metadata": {
            "tags": []
          },
          "execution_count": 117
        },
        {
          "output_type": "display_data",
          "data": {
            "image/png": "[encoded data removed]",
            "text/plain": [
              "<Figure size 432x288 with 1 Axes>"
            ]
          },
          "metadata": {
            "tags": []
          }
        }
      ]
    },
    {
      "cell_type": "code",
      "metadata": {
        "id": "il-Hh12d1Ux3",
        "colab_type": "code",
        "colab": {
          "base_uri": "https://localhost:8080/",
          "height": 321
        },
        "outputId": "163b7f8c-8c8b-4ade-a869-c994bd61068e"
      },
      "source": [
        "housing.plot(kind=\"scatter\", x=\"NOX\", y=\"AGE\", alpha=0.4,\n",
        "    #c=\"INDUS\", cmap=plt.get_cmap(\"jet\"), colorbar=True,\n",
        "    sharex=False)\n",
        "plt.legend()"
      ],
      "execution_count": 118,
      "outputs": [
        {
          "output_type": "stream",
          "text": [
            "No handles with labels found to put in legend.\n"
          ],
          "name": "stderr"
        },
        {
          "output_type": "execute_result",
          "data": {
            "text/plain": [
              "<matplotlib.legend.Legend at 0x7fe517c1b0f0>"
            ]
          },
          "metadata": {
            "tags": []
          },
          "execution_count": 118
        },
        {
          "output_type": "display_data",
          "data": {
            "image/png": "[encoded data removed]",
            "text/plain": [
              "<Figure size 432x288 with 1 Axes>"
            ]
          },
          "metadata": {
            "tags": []
          }
        }
      ]
    },
    {
      "cell_type": "code",
      "metadata": {
        "id": "kttE3sgK1Uu3",
        "colab_type": "code",
        "colab": {
          "base_uri": "https://localhost:8080/",
          "height": 321
        },
        "outputId": "043eb6d6-cbbd-43e1-f029-427279554c9f"
      },
      "source": [
        "housing.plot(kind=\"scatter\", x=\"NOX\", y=\"DIS\", alpha=0.4,\n",
        "    #c=\"INDUS\", cmap=plt.get_cmap(\"jet\"), colorbar=True,\n",
        "    sharex=False)\n",
        "plt.legend()"
      ],
      "execution_count": 119,
      "outputs": [
        {
          "output_type": "stream",
          "text": [
            "No handles with labels found to put in legend.\n"
          ],
          "name": "stderr"
        },
        {
          "output_type": "execute_result",
          "data": {
            "text/plain": [
              "<matplotlib.legend.Legend at 0x7fe517c1b518>"
            ]
          },
          "metadata": {
            "tags": []
          },
          "execution_count": 119
        },
        {
          "output_type": "display_data",
          "data": {
            "image/png": "[encoded data removed]",
            "text/plain": [
              "<Figure size 432x288 with 1 Axes>"
            ]
          },
          "metadata": {
            "tags": []
          }
        }
      ]
    },
    {
      "cell_type": "code",
      "metadata": {
        "id": "WTFFA5TU1Urc",
        "colab_type": "code",
        "colab": {
          "base_uri": "https://localhost:8080/",
          "height": 321
        },
        "outputId": "486caeee-cad8-46c6-e1e7-aaba0c370185"
      },
      "source": [
        "housing.plot(kind=\"scatter\", x=\"RM\", y=\"MEDV\", alpha=0.4,\n",
        "    #c=\"INDUS\", cmap=plt.get_cmap(\"jet\"), colorbar=True,\n",
        "    sharex=False)\n",
        "plt.legend()"
      ],
      "execution_count": 120,
      "outputs": [
        {
          "output_type": "stream",
          "text": [
            "No handles with labels found to put in legend.\n"
          ],
          "name": "stderr"
        },
        {
          "output_type": "execute_result",
          "data": {
            "text/plain": [
              "<matplotlib.legend.Legend at 0x7fe517bc1828>"
            ]
          },
          "metadata": {
            "tags": []
          },
          "execution_count": 120
        },
        {
          "output_type": "display_data",
          "data": {
            "image/png": "[encoded data removed]",
            "text/plain": [
              "<Figure size 432x288 with 1 Axes>"
            ]
          },
          "metadata": {
            "tags": []
          }
        }
      ]
    },
    {
      "cell_type": "code",
      "metadata": {
        "id": "rkPhIrIN1UoY",
        "colab_type": "code",
        "colab": {
          "base_uri": "https://localhost:8080/",
          "height": 321
        },
        "outputId": "2c6f86fb-7ae4-45bd-a9b4-1c18edc96383"
      },
      "source": [
        "housing.plot(kind=\"scatter\", x=\"AGE\", y=\"DIS\", alpha=0.4,\n",
        "    #c=\"INDUS\", cmap=plt.get_cmap(\"jet\"), colorbar=True,\n",
        "    sharex=False)\n",
        "plt.legend()"
      ],
      "execution_count": 121,
      "outputs": [
        {
          "output_type": "stream",
          "text": [
            "No handles with labels found to put in legend.\n"
          ],
          "name": "stderr"
        },
        {
          "output_type": "execute_result",
          "data": {
            "text/plain": [
              "<matplotlib.legend.Legend at 0x7fe517bdca90>"
            ]
          },
          "metadata": {
            "tags": []
          },
          "execution_count": 121
        },
        {
          "output_type": "display_data",
          "data": {
            "image/png": "[encoded data removed]",
            "text/plain": [
              "<Figure size 432x288 with 1 Axes>"
            ]
          },
          "metadata": {
            "tags": []
          }
        }
      ]
    },
    {
      "cell_type": "code",
      "metadata": {
        "id": "2b0vLZ9-1UZ2",
        "colab_type": "code",
        "colab": {
          "base_uri": "https://localhost:8080/",
          "height": 321
        },
        "outputId": "3da18f18-6a2e-4ad0-c358-4e93eec23cbf"
      },
      "source": [
        "housing.plot(kind=\"scatter\", x=\"RAD\", y=\"TAX\", alpha=0.4,\n",
        "    #c=\"INDUS\", cmap=plt.get_cmap(\"jet\"), colorbar=True,\n",
        "    sharex=False)\n",
        "plt.legend()"
      ],
      "execution_count": 122,
      "outputs": [
        {
          "output_type": "stream",
          "text": [
            "No handles with labels found to put in legend.\n"
          ],
          "name": "stderr"
        },
        {
          "output_type": "execute_result",
          "data": {
            "text/plain": [
              "<matplotlib.legend.Legend at 0x7fe517ae2cc0>"
            ]
          },
          "metadata": {
            "tags": []
          },
          "execution_count": 122
        },
        {
          "output_type": "display_data",
          "data": {
            "image/png": "[encoded data removed]",
            "text/plain": [
              "<Figure size 432x288 with 1 Axes>"
            ]
          },
          "metadata": {
            "tags": []
          }
        }
      ]
    },
    {
      "cell_type": "code",
      "metadata": {
        "id": "Na_zKLFZ2aKA",
        "colab_type": "code",
        "colab": {
          "base_uri": "https://localhost:8080/",
          "height": 321
        },
        "outputId": "c4a16f16-587a-471b-a6e0-b308c6f0ddfc"
      },
      "source": [
        "housing.plot(kind=\"scatter\", x=\"LSTAT\", y=\"MEDV\", alpha=0.4,\n",
        "    #c=\"INDUS\", cmap=plt.get_cmap(\"jet\"), colorbar=True,\n",
        "    sharex=False)\n",
        "plt.legend()"
      ],
      "execution_count": 123,
      "outputs": [
        {
          "output_type": "stream",
          "text": [
            "No handles with labels found to put in legend.\n"
          ],
          "name": "stderr"
        },
        {
          "output_type": "execute_result",
          "data": {
            "text/plain": [
              "<matplotlib.legend.Legend at 0x7fe517ab5978>"
            ]
          },
          "metadata": {
            "tags": []
          },
          "execution_count": 123
        },
        {
          "output_type": "display_data",
          "data": {
            "image/png": "[encoded data removed]",
            "text/plain": [
              "<Figure size 432x288 with 1 Axes>"
            ]
          },
          "metadata": {
            "tags": []
          }
        }
      ]
    },
    {
      "cell_type": "markdown",
      "metadata": {
        "id": "iK5Zyo4p2ski",
        "colab_type": "text"
      },
      "source": [
        "Looking at these graphs, I came to the conclusion that INDUS v DIS, NOX v DIS, RM v MEDV, and LSTAT v MEDV all had what seemed to be strong graphical relations, while INDUS v TAX, NOX v AGE, and AGE v DIS had mild graphical relations."
      ]
    },
    {
      "cell_type": "code",
      "metadata": {
        "id": "6-egBnwe3HGO",
        "colab_type": "code",
        "colab": {
          "base_uri": "https://localhost:8080/",
          "height": 321
        },
        "outputId": "16466c33-2b12-4814-ad48-5a0c7c6ae5ca"
      },
      "source": [
        "housing.plot(kind=\"scatter\", x=\"INDUS\", y=\"DIS\", alpha=0.4,\n",
        "    c=\"NOX\", cmap=plt.get_cmap(\"jet\"), colorbar=True,\n",
        "    sharex=False)\n",
        "plt.legend()"
      ],
      "execution_count": 124,
      "outputs": [
        {
          "output_type": "stream",
          "text": [
            "No handles with labels found to put in legend.\n"
          ],
          "name": "stderr"
        },
        {
          "output_type": "execute_result",
          "data": {
            "text/plain": [
              "<matplotlib.legend.Legend at 0x7fe517a2f4a8>"
            ]
          },
          "metadata": {
            "tags": []
          },
          "execution_count": 124
        },
        {
          "output_type": "display_data",
          "data": {
            "image/png": "[encoded data removed]",
            "text/plain": [
              "<Figure size 432x288 with 2 Axes>"
            ]
          },
          "metadata": {
            "tags": []
          }
        }
      ]
    },
    {
      "cell_type": "code",
      "metadata": {
        "id": "TdhQfp_I3iLL",
        "colab_type": "code",
        "colab": {
          "base_uri": "https://localhost:8080/",
          "height": 326
        },
        "outputId": "d82c14bb-1b1d-4409-cce0-53bcd2cb81de"
      },
      "source": [
        "housing.plot(kind=\"scatter\", x=\"RM\", y=\"LSTAT\", alpha=0.4,\n",
        "    c=\"MEDV\", cmap=plt.get_cmap(\"jet\"), colorbar=True,\n",
        "    sharex=False)\n",
        "plt.legend()"
      ],
      "execution_count": 125,
      "outputs": [
        {
          "output_type": "stream",
          "text": [
            "No handles with labels found to put in legend.\n"
          ],
          "name": "stderr"
        },
        {
          "output_type": "execute_result",
          "data": {
            "text/plain": [
              "<matplotlib.legend.Legend at 0x7fe517a28160>"
            ]
          },
          "metadata": {
            "tags": []
          },
          "execution_count": 125
        },
        {
          "output_type": "display_data",
          "data": {
            "image/png": "[encoded data removed]",
            "text/plain": [
              "<Figure size 432x288 with 2 Axes>"
            ]
          },
          "metadata": {
            "tags": []
          }
        }
      ]
    },
    {
      "cell_type": "markdown",
      "metadata": {
        "id": "uuphbmN932-W",
        "colab_type": "text"
      },
      "source": [
        "I think this is a good relationship to potentially explore, so I will initally work with this."
      ]
    },
    {
      "cell_type": "markdown",
      "metadata": {
        "id": "Trk8RKv_sKK3",
        "colab_type": "text"
      },
      "source": [
        "Create a feature: Cost/Room"
      ]
    },
    {
      "cell_type": "code",
      "metadata": {
        "id": "bp7ckGmNr3c2",
        "colab_type": "code",
        "colab": {}
      },
      "source": [
        "housing[\"Cost/Room\"] = housing[\"MEDV\"]/housing[\"RM\"]"
      ],
      "execution_count": 0,
      "outputs": []
    },
    {
      "cell_type": "code",
      "metadata": {
        "id": "szztNIkAsJgy",
        "colab_type": "code",
        "colab": {}
      },
      "source": [
        "corr_matrix = housing.corr()"
      ],
      "execution_count": 0,
      "outputs": []
    },
    {
      "cell_type": "code",
      "metadata": {
        "id": "ShVE79ftsm2Q",
        "colab_type": "code",
        "colab": {
          "base_uri": "https://localhost:8080/",
          "height": 295
        },
        "outputId": "dc51134b-6ca4-4fa6-8ca0-35dd816383fd"
      },
      "source": [
        "corr_matrix[\"Cost/Room\"].sort_values(ascending=False)"
      ],
      "execution_count": 128,
      "outputs": [
        {
          "output_type": "execute_result",
          "data": {
            "text/plain": [
              "Cost/Room    1.000000\n",
              "MEDV         0.944504\n",
              "RM           0.427287\n",
              "B            0.338558\n",
              "ZN           0.322657\n",
              "DIS          0.240735\n",
              "CHAS         0.192600\n",
              "RAD         -0.363913\n",
              "AGE         -0.379968\n",
              "CRIM        -0.405555\n",
              "NOX         -0.412256\n",
              "PTRATIO     -0.430723\n",
              "INDUS       -0.444454\n",
              "TAX         -0.449303\n",
              "LSTAT       -0.689899\n",
              "Name: Cost/Room, dtype: float64"
            ]
          },
          "metadata": {
            "tags": []
          },
          "execution_count": 128
        }
      ]
    },
    {
      "cell_type": "code",
      "metadata": {
        "id": "KzJEKzHytkZP",
        "colab_type": "code",
        "colab": {
          "base_uri": "https://localhost:8080/",
          "height": 326
        },
        "outputId": "1d642865-8ff7-4867-80c8-27846a7c2302"
      },
      "source": [
        "housing.plot(kind=\"scatter\", x=\"Cost/Room\", y=\"LSTAT\", alpha=0.4,\n",
        "    c=\"MEDV\", cmap=plt.get_cmap(\"jet\"), colorbar=True,\n",
        "    sharex=False)\n",
        "plt.legend()"
      ],
      "execution_count": 129,
      "outputs": [
        {
          "output_type": "stream",
          "text": [
            "No handles with labels found to put in legend.\n"
          ],
          "name": "stderr"
        },
        {
          "output_type": "execute_result",
          "data": {
            "text/plain": [
              "<matplotlib.legend.Legend at 0x7fe517a62400>"
            ]
          },
          "metadata": {
            "tags": []
          },
          "execution_count": 129
        },
        {
          "output_type": "display_data",
          "data": {
            "image/png": "[encoded data removed]",
            "text/plain": [
              "<Figure size 432x288 with 2 Axes>"
            ]
          },
          "metadata": {
            "tags": []
          }
        }
      ]
    },
    {
      "cell_type": "markdown",
      "metadata": {
        "id": "xxx-BEMd4HJY",
        "colab_type": "text"
      },
      "source": [
        "# Data Preparation"
      ]
    },
    {
      "cell_type": "markdown",
      "metadata": {
        "id": "Qgs2OnnE4X5q",
        "colab_type": "text"
      },
      "source": [
        "No missing values based on count seen earlier, so no need to handle this."
      ]
    },
    {
      "cell_type": "markdown",
      "metadata": {
        "id": "IHlK_ZgLV18A",
        "colab_type": "text"
      },
      "source": [
        "No need to handle categorical data, since the category is already binary."
      ]
    },
    {
      "cell_type": "code",
      "metadata": {
        "id": "6JQjr2Gc4Oik",
        "colab_type": "code",
        "colab": {}
      },
      "source": [
        "housing = strat_train_set.drop(\"MEDV\", axis=1) # drop labels for training set\n",
        "housing_labels = strat_train_set[\"MEDV\"].copy()"
      ],
      "execution_count": 0,
      "outputs": []
    },
    {
      "cell_type": "markdown",
      "metadata": {
        "id": "yfmOJPIHgqtv",
        "colab_type": "text"
      },
      "source": [
        "Finally, Standardize the Data for easier ML Algorithm interpretation"
      ]
    },
    {
      "cell_type": "code",
      "metadata": {
        "id": "6duEJTDhgxB-",
        "colab_type": "code",
        "colab": {}
      },
      "source": [
        "from sklearn.pipeline import Pipeline\n",
        "from sklearn.preprocessing import StandardScaler\n",
        "num_pipeline = Pipeline([\n",
        "        ('std_scaler', StandardScaler()),\n",
        "    ])\n",
        "\n",
        "housing_tr = num_pipeline.fit_transform(housing)"
      ],
      "execution_count": 0,
      "outputs": []
    },
    {
      "cell_type": "code",
      "metadata": {
        "id": "evfLCzNth0TU",
        "colab_type": "code",
        "colab": {
          "base_uri": "https://localhost:8080/",
          "height": 243
        },
        "outputId": "e82fa9b3-9ad8-43d1-bdaf-9974fffe465a"
      },
      "source": [
        "housing_tr"
      ],
      "execution_count": 132,
      "outputs": [
        {
          "output_type": "execute_result",
          "data": {
            "text/plain": [
              "array([[ 0.00317313, -0.4961644 ,  1.01589772, ...,  0.26079071,\n",
              "        -0.34313793,  0.26451023],\n",
              "       [-0.40909811, -0.4961644 , -0.75158412, ...,  0.22571354,\n",
              "        -0.174649  , -0.81490526],\n",
              "       [-0.39256595, -0.4961644 , -0.54484407, ...,  0.43574218,\n",
              "         0.01593685,  0.26451023],\n",
              "       ...,\n",
              "       [-0.40521462, -0.4961644 , -0.373046  , ...,  0.33572337,\n",
              "         0.19547424,  0.26451023],\n",
              "       [-0.41386698, -0.4961644 , -1.26115467, ...,  0.38937081,\n",
              "        -1.13586456,  2.42334122],\n",
              "       [-0.01331528, -0.4961644 ,  1.23137326, ..., -2.91874325,\n",
              "         0.32391253, -0.81490526]])"
            ]
          },
          "metadata": {
            "tags": []
          },
          "execution_count": 132
        }
      ]
    },
    {
      "cell_type": "code",
      "metadata": {
        "id": "qrKmuGfdh-hE",
        "colab_type": "code",
        "colab": {
          "base_uri": "https://localhost:8080/",
          "height": 35
        },
        "outputId": "9ddce2cc-d0f3-4fed-895a-4d020c5afa43"
      },
      "source": [
        "housing_tr.shape"
      ],
      "execution_count": 133,
      "outputs": [
        {
          "output_type": "execute_result",
          "data": {
            "text/plain": [
              "(404, 14)"
            ]
          },
          "metadata": {
            "tags": []
          },
          "execution_count": 133
        }
      ]
    },
    {
      "cell_type": "markdown",
      "metadata": {
        "id": "0MKLlmXaiRPO",
        "colab_type": "text"
      },
      "source": [
        "# Find and Train a Model"
      ]
    },
    {
      "cell_type": "code",
      "metadata": {
        "id": "mEzXMJFfiZUM",
        "colab_type": "code",
        "colab": {
          "base_uri": "https://localhost:8080/",
          "height": 35
        },
        "outputId": "3c05e160-0852-4d62-9925-3cf951c942e7"
      },
      "source": [
        "from sklearn.linear_model import LinearRegression\n",
        "\n",
        "lin_reg = LinearRegression()\n",
        "lin_reg.fit(housing_tr, housing_labels)"
      ],
      "execution_count": 134,
      "outputs": [
        {
          "output_type": "execute_result",
          "data": {
            "text/plain": [
              "LinearRegression(copy_X=True, fit_intercept=True, n_jobs=None, normalize=False)"
            ]
          },
          "metadata": {
            "tags": []
          },
          "execution_count": 134
        }
      ]
    },
    {
      "cell_type": "code",
      "metadata": {
        "id": "HuJ_aHbRimVG",
        "colab_type": "code",
        "colab": {
          "base_uri": "https://localhost:8080/",
          "height": 35
        },
        "outputId": "cd72102d-62c1-44c6-b30a-894a844263e0"
      },
      "source": [
        "some_data = housing.iloc[:5]\n",
        "some_labels = housing_labels.iloc[:5]\n",
        "\n",
        "from sklearn.pipeline import Pipeline\n",
        "from sklearn.preprocessing import StandardScaler\n",
        "num_pipeline = Pipeline([\n",
        "        ('std_scaler', StandardScaler()),\n",
        "    ])\n",
        "\n",
        "some_data_prepared = num_pipeline.fit_transform(some_data)\n",
        "# Note here that you only use transform() instead of fit_tranform becausue you are not trying to learn any parameter (ie. median)\n",
        "\n",
        "print(\"Predictions:\", lin_reg.predict(some_data_prepared))"
      ],
      "execution_count": 135,
      "outputs": [
        {
          "output_type": "stream",
          "text": [
            "Predictions: [23.05289519 15.23297269 23.62754967 37.03413597 13.52150588]\n"
          ],
          "name": "stdout"
        }
      ]
    },
    {
      "cell_type": "code",
      "metadata": {
        "id": "JK6DSr4njoSE",
        "colab_type": "code",
        "colab": {
          "base_uri": "https://localhost:8080/",
          "height": 35
        },
        "outputId": "fcc784f9-39ae-4888-b416-df46860aecf6"
      },
      "source": [
        "print(\"Labels:\", list(some_labels))"
      ],
      "execution_count": 136,
      "outputs": [
        {
          "output_type": "stream",
          "text": [
            "Labels: [20.8, 20.0, 22.2, 32.2, 18.9]\n"
          ],
          "name": "stdout"
        }
      ]
    },
    {
      "cell_type": "markdown",
      "metadata": {
        "id": "Zwdc7HDqj6Gw",
        "colab_type": "text"
      },
      "source": [
        "Note that these values are in thousands of USD, so these estimates are much further off than initally appear."
      ]
    },
    {
      "cell_type": "code",
      "metadata": {
        "id": "nTO15CG4jwC2",
        "colab_type": "code",
        "colab": {
          "base_uri": "https://localhost:8080/",
          "height": 35
        },
        "outputId": "12040a65-c323-47fe-dc2e-9e93226c48ef"
      },
      "source": [
        "from sklearn.metrics import mean_squared_error\n",
        "\n",
        "housing_predictions = lin_reg.predict(housing_tr)\n",
        "lin_mse = mean_squared_error(housing_labels, housing_predictions)\n",
        "lin_rmse = np.sqrt(lin_mse)\n",
        "lin_rmse"
      ],
      "execution_count": 137,
      "outputs": [
        {
          "output_type": "execute_result",
          "data": {
            "text/plain": [
              "2.7828883341019246"
            ]
          },
          "metadata": {
            "tags": []
          },
          "execution_count": 137
        }
      ]
    },
    {
      "cell_type": "code",
      "metadata": {
        "id": "cR9FTTRmkOK4",
        "colab_type": "code",
        "colab": {
          "base_uri": "https://localhost:8080/",
          "height": 121
        },
        "outputId": "46eac86c-ee37-441d-8c58-b2b7bdea913c"
      },
      "source": [
        "from sklearn.tree import DecisionTreeRegressor\n",
        "\n",
        "tree_reg = DecisionTreeRegressor(random_state=42)\n",
        "tree_reg.fit(housing_tr, housing_labels)"
      ],
      "execution_count": 138,
      "outputs": [
        {
          "output_type": "execute_result",
          "data": {
            "text/plain": [
              "DecisionTreeRegressor(ccp_alpha=0.0, criterion='mse', max_depth=None,\n",
              "                      max_features=None, max_leaf_nodes=None,\n",
              "                      min_impurity_decrease=0.0, min_impurity_split=None,\n",
              "                      min_samples_leaf=1, min_samples_split=2,\n",
              "                      min_weight_fraction_leaf=0.0, presort='deprecated',\n",
              "                      random_state=42, splitter='best')"
            ]
          },
          "metadata": {
            "tags": []
          },
          "execution_count": 138
        }
      ]
    },
    {
      "cell_type": "code",
      "metadata": {
        "id": "zaNWfAT-kW7I",
        "colab_type": "code",
        "colab": {
          "base_uri": "https://localhost:8080/",
          "height": 35
        },
        "outputId": "29a741ce-93f0-4e78-e17d-cbe52ee221ad"
      },
      "source": [
        "housing_predictions = tree_reg.predict(housing_tr)\n",
        "tree_mse = mean_squared_error(housing_labels, housing_predictions)\n",
        "tree_rmse = np.sqrt(tree_mse)\n",
        "tree_rmse"
      ],
      "execution_count": 139,
      "outputs": [
        {
          "output_type": "execute_result",
          "data": {
            "text/plain": [
              "0.0"
            ]
          },
          "metadata": {
            "tags": []
          },
          "execution_count": 139
        }
      ]
    },
    {
      "cell_type": "markdown",
      "metadata": {
        "id": "TeT2JoGbkfBA",
        "colab_type": "text"
      },
      "source": [
        "This indicates overfitting, so instead check error with a 5-fold cross-validation."
      ]
    },
    {
      "cell_type": "code",
      "metadata": {
        "id": "x9o0gTBZkiyz",
        "colab_type": "code",
        "colab": {}
      },
      "source": [
        "from sklearn.model_selection import cross_val_score\n",
        "\n",
        "scores = cross_val_score(tree_reg, housing_tr, housing_labels,\n",
        "                         scoring=\"neg_mean_squared_error\", cv=5)\n",
        "tree_rmse_scores = np.sqrt(-scores)"
      ],
      "execution_count": 0,
      "outputs": []
    },
    {
      "cell_type": "markdown",
      "metadata": {
        "id": "sJh1c8sVk5Kg",
        "colab_type": "text"
      },
      "source": [
        "The scores for the DecisionTree"
      ]
    },
    {
      "cell_type": "code",
      "metadata": {
        "id": "sSeDudJykxZg",
        "colab_type": "code",
        "colab": {
          "base_uri": "https://localhost:8080/",
          "height": 69
        },
        "outputId": "b3e4475a-4501-4c85-9aec-5d21751d97f7"
      },
      "source": [
        "def display_scores(scores):\n",
        "    print(\"Scores:\", scores)\n",
        "    print(\"Mean:\", scores.mean())\n",
        "    print(\"Standard deviation:\", scores.std())\n",
        "\n",
        "display_scores(tree_rmse_scores)"
      ],
      "execution_count": 141,
      "outputs": [
        {
          "output_type": "stream",
          "text": [
            "Scores: [2.82860171 2.59964385 2.6117257  2.70885607 3.01008721]\n",
            "Mean: 2.751782908563274\n",
            "Standard deviation: 0.15311908362015914\n"
          ],
          "name": "stdout"
        }
      ]
    },
    {
      "cell_type": "markdown",
      "metadata": {
        "id": "OI_kMvgRk7sM",
        "colab_type": "text"
      },
      "source": [
        "The scores for the Linear Regression"
      ]
    },
    {
      "cell_type": "code",
      "metadata": {
        "id": "FrwcNfUHk-oJ",
        "colab_type": "code",
        "colab": {
          "base_uri": "https://localhost:8080/",
          "height": 87
        },
        "outputId": "5ee28d23-ceed-42cd-e25e-4d4a36d8cd4b"
      },
      "source": [
        "lin_scores = cross_val_score(lin_reg, housing_tr, housing_labels,\n",
        "                             scoring=\"neg_mean_squared_error\", cv=10)\n",
        "lin_rmse_scores = np.sqrt(-lin_scores)\n",
        "display_scores(lin_rmse_scores)"
      ],
      "execution_count": 142,
      "outputs": [
        {
          "output_type": "stream",
          "text": [
            "Scores: [2.59731562 2.83729063 2.73927013 3.05821222 2.80805086 3.01182335\n",
            " 3.65662846 2.96702085 2.71283419 3.08625658]\n",
            "Mean: 2.9474702871452827\n",
            "Standard deviation: 0.2813434374696381\n"
          ],
          "name": "stdout"
        }
      ]
    },
    {
      "cell_type": "markdown",
      "metadata": {
        "id": "WJYwZKpNlNuh",
        "colab_type": "text"
      },
      "source": [
        "Moving on to the final model used in the example, I will try a RandomForestRegressor"
      ]
    },
    {
      "cell_type": "code",
      "metadata": {
        "id": "GN4dfbWglJrQ",
        "colab_type": "code",
        "colab": {
          "base_uri": "https://localhost:8080/",
          "height": 139
        },
        "outputId": "36eaa52f-3a0f-47dc-f217-5e668decec13"
      },
      "source": [
        "from sklearn.ensemble import RandomForestRegressor\n",
        "\n",
        "forest_reg = RandomForestRegressor(n_estimators=100, random_state=42)\n",
        "forest_reg.fit(housing_tr, housing_labels)"
      ],
      "execution_count": 143,
      "outputs": [
        {
          "output_type": "execute_result",
          "data": {
            "text/plain": [
              "RandomForestRegressor(bootstrap=True, ccp_alpha=0.0, criterion='mse',\n",
              "                      max_depth=None, max_features='auto', max_leaf_nodes=None,\n",
              "                      max_samples=None, min_impurity_decrease=0.0,\n",
              "                      min_impurity_split=None, min_samples_leaf=1,\n",
              "                      min_samples_split=2, min_weight_fraction_leaf=0.0,\n",
              "                      n_estimators=100, n_jobs=None, oob_score=False,\n",
              "                      random_state=42, verbose=0, warm_start=False)"
            ]
          },
          "metadata": {
            "tags": []
          },
          "execution_count": 143
        }
      ]
    },
    {
      "cell_type": "code",
      "metadata": {
        "id": "ANQ6-2iKlZXC",
        "colab_type": "code",
        "colab": {
          "base_uri": "https://localhost:8080/",
          "height": 35
        },
        "outputId": "de300f60-899a-446f-d639-ebafa5c610e8"
      },
      "source": [
        "housing_predictions = forest_reg.predict(housing_tr)\n",
        "forest_mse = mean_squared_error(housing_labels, housing_predictions)\n",
        "forest_rmse = np.sqrt(forest_mse)\n",
        "forest_rmse"
      ],
      "execution_count": 144,
      "outputs": [
        {
          "output_type": "execute_result",
          "data": {
            "text/plain": [
              "0.783063803781071"
            ]
          },
          "metadata": {
            "tags": []
          },
          "execution_count": 144
        }
      ]
    },
    {
      "cell_type": "markdown",
      "metadata": {
        "id": "OCCVm6E3lfgg",
        "colab_type": "text"
      },
      "source": [
        "This is significantly better than the previous two models, cutting the error down by about 66%. However, to check for overfitting, run the model with a 5-fold cross-validation."
      ]
    },
    {
      "cell_type": "code",
      "metadata": {
        "id": "BE3BiAZrl0xX",
        "colab_type": "code",
        "colab": {
          "base_uri": "https://localhost:8080/",
          "height": 69
        },
        "outputId": "a7599fae-9601-4c64-928e-d094b4da9835"
      },
      "source": [
        "from sklearn.model_selection import cross_val_score\n",
        "\n",
        "forest_scores = cross_val_score(forest_reg, housing_tr, housing_labels,\n",
        "                                scoring=\"neg_mean_squared_error\", cv=5)\n",
        "forest_rmse_scores = np.sqrt(-forest_scores)\n",
        "display_scores(forest_rmse_scores)"
      ],
      "execution_count": 145,
      "outputs": [
        {
          "output_type": "stream",
          "text": [
            "Scores: [2.12121905 2.06535579 2.17936449 2.14747388 2.01329229]\n",
            "Mean: 2.105341100926151\n",
            "Standard deviation: 0.05929342382666834\n"
          ],
          "name": "stdout"
        }
      ]
    },
    {
      "cell_type": "markdown",
      "metadata": {
        "id": "m8lLufZal62_",
        "colab_type": "text"
      },
      "source": [
        "This is still the best result of the models tested, however it can probably still be improved upon."
      ]
    },
    {
      "cell_type": "markdown",
      "metadata": {
        "id": "0LDO8pvBn1v8",
        "colab_type": "text"
      },
      "source": [
        "# Model Fine Tuning"
      ]
    },
    {
      "cell_type": "markdown",
      "metadata": {
        "id": "0kMfZNKYwVEj",
        "colab_type": "text"
      },
      "source": [
        "First, try a Grid Search to see if satisfactory results are achieved:"
      ]
    },
    {
      "cell_type": "code",
      "metadata": {
        "id": "L45p6UekmCNd",
        "colab_type": "code",
        "colab": {
          "base_uri": "https://localhost:8080/",
          "height": 381
        },
        "outputId": "e8c8cabe-83a1-4ca9-e2b1-7b243ddceb22"
      },
      "source": [
        "from sklearn.model_selection import GridSearchCV\n",
        "\n",
        "param_grid = [\n",
        "    # try 12 (3×4) combinations of hyperparameters\n",
        "    {'n_estimators': [3, 10, 30], 'max_features': [2, 4, 6, 8]},\n",
        "    # then try 6 (2×3) combinations with bootstrap set as False\n",
        "    {'bootstrap': [False], 'n_estimators': [3, 10], 'max_features': [2, 3, 4]},\n",
        "  ]\n",
        "\n",
        "forest_reg = RandomForestRegressor(random_state=42)\n",
        "# train across 5 folds, that's a total of ? rounds of training \n",
        "grid_search = GridSearchCV(forest_reg, param_grid, cv=5,\n",
        "                           scoring='neg_mean_squared_error',\n",
        "                           return_train_score=True)\n",
        "grid_search.fit(housing_tr, housing_labels)"
      ],
      "execution_count": 146,
      "outputs": [
        {
          "output_type": "execute_result",
          "data": {
            "text/plain": [
              "GridSearchCV(cv=5, error_score=nan,\n",
              "             estimator=RandomForestRegressor(bootstrap=True, ccp_alpha=0.0,\n",
              "                                             criterion='mse', max_depth=None,\n",
              "                                             max_features='auto',\n",
              "                                             max_leaf_nodes=None,\n",
              "                                             max_samples=None,\n",
              "                                             min_impurity_decrease=0.0,\n",
              "                                             min_impurity_split=None,\n",
              "                                             min_samples_leaf=1,\n",
              "                                             min_samples_split=2,\n",
              "                                             min_weight_fraction_leaf=0.0,\n",
              "                                             n_estimators=100, n_jobs=None,\n",
              "                                             oob_score=False, random_state=42,\n",
              "                                             verbose=0, warm_start=False),\n",
              "             iid='deprecated', n_jobs=None,\n",
              "             param_grid=[{'max_features': [2, 4, 6, 8],\n",
              "                          'n_estimators': [3, 10, 30]},\n",
              "                         {'bootstrap': [False], 'max_features': [2, 3, 4],\n",
              "                          'n_estimators': [3, 10]}],\n",
              "             pre_dispatch='2*n_jobs', refit=True, return_train_score=True,\n",
              "             scoring='neg_mean_squared_error', verbose=0)"
            ]
          },
          "metadata": {
            "tags": []
          },
          "execution_count": 146
        }
      ]
    },
    {
      "cell_type": "code",
      "metadata": {
        "id": "FBaTqxfYvhmA",
        "colab_type": "code",
        "colab": {
          "base_uri": "https://localhost:8080/",
          "height": 35
        },
        "outputId": "5d20a890-502a-42ea-bde6-7f748dbc5e07"
      },
      "source": [
        "grid_search.best_params_"
      ],
      "execution_count": 147,
      "outputs": [
        {
          "output_type": "execute_result",
          "data": {
            "text/plain": [
              "{'max_features': 8, 'n_estimators': 30}"
            ]
          },
          "metadata": {
            "tags": []
          },
          "execution_count": 147
        }
      ]
    },
    {
      "cell_type": "code",
      "metadata": {
        "id": "IjIQ3Lopvk_j",
        "colab_type": "code",
        "colab": {
          "base_uri": "https://localhost:8080/",
          "height": 139
        },
        "outputId": "6a19b535-d764-4fce-e972-8feef7864af3"
      },
      "source": [
        "grid_search.best_estimator_"
      ],
      "execution_count": 148,
      "outputs": [
        {
          "output_type": "execute_result",
          "data": {
            "text/plain": [
              "RandomForestRegressor(bootstrap=True, ccp_alpha=0.0, criterion='mse',\n",
              "                      max_depth=None, max_features=8, max_leaf_nodes=None,\n",
              "                      max_samples=None, min_impurity_decrease=0.0,\n",
              "                      min_impurity_split=None, min_samples_leaf=1,\n",
              "                      min_samples_split=2, min_weight_fraction_leaf=0.0,\n",
              "                      n_estimators=30, n_jobs=None, oob_score=False,\n",
              "                      random_state=42, verbose=0, warm_start=False)"
            ]
          },
          "metadata": {
            "tags": []
          },
          "execution_count": 148
        }
      ]
    },
    {
      "cell_type": "code",
      "metadata": {
        "id": "0luWfhTavrnB",
        "colab_type": "code",
        "colab": {
          "base_uri": "https://localhost:8080/",
          "height": 329
        },
        "outputId": "52c2feb3-903e-4539-b274-f813ad8fafc1"
      },
      "source": [
        "cvres = grid_search.cv_results_\n",
        "# zip() is to combine the column \"mean_test_score\" with struct \"params\"\n",
        "for mean_score, params in zip(cvres[\"mean_test_score\"], cvres[\"params\"]):\n",
        "    print(np.sqrt(-mean_score), params)"
      ],
      "execution_count": 149,
      "outputs": [
        {
          "output_type": "stream",
          "text": [
            "3.5472186306622575 {'max_features': 2, 'n_estimators': 3}\n",
            "3.3257629478339528 {'max_features': 2, 'n_estimators': 10}\n",
            "2.763437920960794 {'max_features': 2, 'n_estimators': 30}\n",
            "2.6382097371672235 {'max_features': 4, 'n_estimators': 3}\n",
            "2.602888915568646 {'max_features': 4, 'n_estimators': 10}\n",
            "2.2563914070382007 {'max_features': 4, 'n_estimators': 30}\n",
            "2.440675693226401 {'max_features': 6, 'n_estimators': 3}\n",
            "2.350804818186715 {'max_features': 6, 'n_estimators': 10}\n",
            "2.1798646645517508 {'max_features': 6, 'n_estimators': 30}\n",
            "2.439296163862497 {'max_features': 8, 'n_estimators': 3}\n",
            "2.2153624790494777 {'max_features': 8, 'n_estimators': 10}\n",
            "2.1259510768450305 {'max_features': 8, 'n_estimators': 30}\n",
            "3.0780514541602715 {'bootstrap': False, 'max_features': 2, 'n_estimators': 3}\n",
            "2.704972293393167 {'bootstrap': False, 'max_features': 2, 'n_estimators': 10}\n",
            "2.8882760508568706 {'bootstrap': False, 'max_features': 3, 'n_estimators': 3}\n",
            "2.6375631851304635 {'bootstrap': False, 'max_features': 3, 'n_estimators': 10}\n",
            "2.6510870703017257 {'bootstrap': False, 'max_features': 4, 'n_estimators': 3}\n",
            "2.325988262684949 {'bootstrap': False, 'max_features': 4, 'n_estimators': 10}\n"
          ],
          "name": "stdout"
        }
      ]
    },
    {
      "cell_type": "code",
      "metadata": {
        "id": "NOyzqRJVv8m4",
        "colab_type": "code",
        "colab": {
          "base_uri": "https://localhost:8080/",
          "height": 1000
        },
        "outputId": "3c86ee3f-f4a9-49a1-e156-1cc04bd9f288"
      },
      "source": [
        "pd.DataFrame(grid_search.cv_results_)"
      ],
      "execution_count": 150,
      "outputs": [
        {
          "output_type": "execute_result",
          "data": {
            "text/html": [
              "<div>\n",
              "<style scoped>\n",
              "    .dataframe tbody tr th:only-of-type {\n",
              "        vertical-align: middle;\n",
              "    }\n",
              "\n",
              "    .dataframe tbody tr th {\n",
              "        vertical-align: top;\n",
              "    }\n",
              "\n",
              "    .dataframe thead th {\n",
              "        text-align: right;\n",
              "    }\n",
              "</style>\n",
              "<table border=\"1\" class=\"dataframe\">\n",
              "  <thead>\n",
              "    <tr style=\"text-align: right;\">\n",
              "      <th></th>\n",
              "      <th>mean_fit_time</th>\n",
              "      <th>std_fit_time</th>\n",
              "      <th>mean_score_time</th>\n",
              "      <th>std_score_time</th>\n",
              "      <th>param_max_features</th>\n",
              "      <th>param_n_estimators</th>\n",
              "      <th>param_bootstrap</th>\n",
              "      <th>params</th>\n",
              "      <th>split0_test_score</th>\n",
              "      <th>split1_test_score</th>\n",
              "      <th>split2_test_score</th>\n",
              "      <th>split3_test_score</th>\n",
              "      <th>split4_test_score</th>\n",
              "      <th>mean_test_score</th>\n",
              "      <th>std_test_score</th>\n",
              "      <th>rank_test_score</th>\n",
              "      <th>split0_train_score</th>\n",
              "      <th>split1_train_score</th>\n",
              "      <th>split2_train_score</th>\n",
              "      <th>split3_train_score</th>\n",
              "      <th>split4_train_score</th>\n",
              "      <th>mean_train_score</th>\n",
              "      <th>std_train_score</th>\n",
              "    </tr>\n",
              "  </thead>\n",
              "  <tbody>\n",
              "    <tr>\n",
              "      <th>0</th>\n",
              "      <td>0.006778</td>\n",
              "      <td>0.002000</td>\n",
              "      <td>0.000988</td>\n",
              "      <td>0.000138</td>\n",
              "      <td>2</td>\n",
              "      <td>3</td>\n",
              "      <td>NaN</td>\n",
              "      <td>{'max_features': 2, 'n_estimators': 3}</td>\n",
              "      <td>-11.212593</td>\n",
              "      <td>-11.511811</td>\n",
              "      <td>-10.652606</td>\n",
              "      <td>-15.877874</td>\n",
              "      <td>-13.658917</td>\n",
              "      <td>-12.582760</td>\n",
              "      <td>1.937301</td>\n",
              "      <td>18</td>\n",
              "      <td>-3.746505e+00</td>\n",
              "      <td>-5.983216e+00</td>\n",
              "      <td>-3.367595e+00</td>\n",
              "      <td>-3.191510e+00</td>\n",
              "      <td>-3.447521e+00</td>\n",
              "      <td>-3.947270e+00</td>\n",
              "      <td>1.033666e+00</td>\n",
              "    </tr>\n",
              "    <tr>\n",
              "      <th>1</th>\n",
              "      <td>0.016706</td>\n",
              "      <td>0.000590</td>\n",
              "      <td>0.001580</td>\n",
              "      <td>0.000169</td>\n",
              "      <td>2</td>\n",
              "      <td>10</td>\n",
              "      <td>NaN</td>\n",
              "      <td>{'max_features': 2, 'n_estimators': 10}</td>\n",
              "      <td>-9.326327</td>\n",
              "      <td>-8.338384</td>\n",
              "      <td>-9.086728</td>\n",
              "      <td>-15.371986</td>\n",
              "      <td>-13.180070</td>\n",
              "      <td>-11.060699</td>\n",
              "      <td>2.734759</td>\n",
              "      <td>17</td>\n",
              "      <td>-2.258375e+00</td>\n",
              "      <td>-2.493780e+00</td>\n",
              "      <td>-2.299013e+00</td>\n",
              "      <td>-2.443998e+00</td>\n",
              "      <td>-2.292991e+00</td>\n",
              "      <td>-2.357632e+00</td>\n",
              "      <td>9.323317e-02</td>\n",
              "    </tr>\n",
              "    <tr>\n",
              "      <th>2</th>\n",
              "      <td>0.047188</td>\n",
              "      <td>0.000785</td>\n",
              "      <td>0.002900</td>\n",
              "      <td>0.000296</td>\n",
              "      <td>2</td>\n",
              "      <td>30</td>\n",
              "      <td>NaN</td>\n",
              "      <td>{'max_features': 2, 'n_estimators': 30}</td>\n",
              "      <td>-6.363356</td>\n",
              "      <td>-6.440681</td>\n",
              "      <td>-5.820700</td>\n",
              "      <td>-10.797339</td>\n",
              "      <td>-8.760870</td>\n",
              "      <td>-7.636589</td>\n",
              "      <td>1.876333</td>\n",
              "      <td>14</td>\n",
              "      <td>-1.367837e+00</td>\n",
              "      <td>-1.532055e+00</td>\n",
              "      <td>-1.017932e+00</td>\n",
              "      <td>-1.248329e+00</td>\n",
              "      <td>-1.184293e+00</td>\n",
              "      <td>-1.270089e+00</td>\n",
              "      <td>1.729730e-01</td>\n",
              "    </tr>\n",
              "    <tr>\n",
              "      <th>3</th>\n",
              "      <td>0.006582</td>\n",
              "      <td>0.000210</td>\n",
              "      <td>0.001034</td>\n",
              "      <td>0.000022</td>\n",
              "      <td>4</td>\n",
              "      <td>3</td>\n",
              "      <td>NaN</td>\n",
              "      <td>{'max_features': 4, 'n_estimators': 3}</td>\n",
              "      <td>-7.634102</td>\n",
              "      <td>-5.257380</td>\n",
              "      <td>-6.585254</td>\n",
              "      <td>-8.799684</td>\n",
              "      <td>-6.524333</td>\n",
              "      <td>-6.960151</td>\n",
              "      <td>1.188950</td>\n",
              "      <td>11</td>\n",
              "      <td>-2.707984e+00</td>\n",
              "      <td>-1.936295e+00</td>\n",
              "      <td>-1.749835e+00</td>\n",
              "      <td>-2.481121e+00</td>\n",
              "      <td>-2.302589e+00</td>\n",
              "      <td>-2.235565e+00</td>\n",
              "      <td>3.502760e-01</td>\n",
              "    </tr>\n",
              "    <tr>\n",
              "      <th>4</th>\n",
              "      <td>0.018927</td>\n",
              "      <td>0.000367</td>\n",
              "      <td>0.001542</td>\n",
              "      <td>0.000112</td>\n",
              "      <td>4</td>\n",
              "      <td>10</td>\n",
              "      <td>NaN</td>\n",
              "      <td>{'max_features': 4, 'n_estimators': 10}</td>\n",
              "      <td>-5.219323</td>\n",
              "      <td>-4.643677</td>\n",
              "      <td>-6.107017</td>\n",
              "      <td>-10.288200</td>\n",
              "      <td>-7.616936</td>\n",
              "      <td>-6.775031</td>\n",
              "      <td>2.022884</td>\n",
              "      <td>9</td>\n",
              "      <td>-1.605364e+00</td>\n",
              "      <td>-1.351176e+00</td>\n",
              "      <td>-1.156068e+00</td>\n",
              "      <td>-1.373136e+00</td>\n",
              "      <td>-1.581313e+00</td>\n",
              "      <td>-1.413411e+00</td>\n",
              "      <td>1.653829e-01</td>\n",
              "    </tr>\n",
              "    <tr>\n",
              "      <th>5</th>\n",
              "      <td>0.051431</td>\n",
              "      <td>0.001535</td>\n",
              "      <td>0.003027</td>\n",
              "      <td>0.000396</td>\n",
              "      <td>4</td>\n",
              "      <td>30</td>\n",
              "      <td>NaN</td>\n",
              "      <td>{'max_features': 4, 'n_estimators': 30}</td>\n",
              "      <td>-4.155515</td>\n",
              "      <td>-4.107029</td>\n",
              "      <td>-4.979801</td>\n",
              "      <td>-6.800737</td>\n",
              "      <td>-5.413428</td>\n",
              "      <td>-5.091302</td>\n",
              "      <td>0.988216</td>\n",
              "      <td>4</td>\n",
              "      <td>-1.019182e+00</td>\n",
              "      <td>-8.336145e-01</td>\n",
              "      <td>-8.043818e-01</td>\n",
              "      <td>-7.385352e-01</td>\n",
              "      <td>-8.802225e-01</td>\n",
              "      <td>-8.551873e-01</td>\n",
              "      <td>9.399516e-02</td>\n",
              "    </tr>\n",
              "    <tr>\n",
              "      <th>6</th>\n",
              "      <td>0.006664</td>\n",
              "      <td>0.000277</td>\n",
              "      <td>0.001019</td>\n",
              "      <td>0.000115</td>\n",
              "      <td>6</td>\n",
              "      <td>3</td>\n",
              "      <td>NaN</td>\n",
              "      <td>{'max_features': 6, 'n_estimators': 3}</td>\n",
              "      <td>-6.104335</td>\n",
              "      <td>-6.239053</td>\n",
              "      <td>-6.879259</td>\n",
              "      <td>-5.771550</td>\n",
              "      <td>-4.790292</td>\n",
              "      <td>-5.956898</td>\n",
              "      <td>0.685190</td>\n",
              "      <td>8</td>\n",
              "      <td>-1.469463e+00</td>\n",
              "      <td>-2.115263e+00</td>\n",
              "      <td>-1.842993e+00</td>\n",
              "      <td>-1.178958e+00</td>\n",
              "      <td>-1.914451e+00</td>\n",
              "      <td>-1.704226e+00</td>\n",
              "      <td>3.356852e-01</td>\n",
              "    </tr>\n",
              "    <tr>\n",
              "      <th>7</th>\n",
              "      <td>0.020905</td>\n",
              "      <td>0.000524</td>\n",
              "      <td>0.001645</td>\n",
              "      <td>0.000158</td>\n",
              "      <td>6</td>\n",
              "      <td>10</td>\n",
              "      <td>NaN</td>\n",
              "      <td>{'max_features': 6, 'n_estimators': 10}</td>\n",
              "      <td>-4.167183</td>\n",
              "      <td>-4.592840</td>\n",
              "      <td>-5.438178</td>\n",
              "      <td>-7.585683</td>\n",
              "      <td>-5.847534</td>\n",
              "      <td>-5.526283</td>\n",
              "      <td>1.189165</td>\n",
              "      <td>6</td>\n",
              "      <td>-1.164298e+00</td>\n",
              "      <td>-1.001134e+00</td>\n",
              "      <td>-9.544975e-01</td>\n",
              "      <td>-1.193721e+00</td>\n",
              "      <td>-1.622229e+00</td>\n",
              "      <td>-1.187176e+00</td>\n",
              "      <td>2.360457e-01</td>\n",
              "    </tr>\n",
              "    <tr>\n",
              "      <th>8</th>\n",
              "      <td>0.060886</td>\n",
              "      <td>0.000719</td>\n",
              "      <td>0.003150</td>\n",
              "      <td>0.000294</td>\n",
              "      <td>6</td>\n",
              "      <td>30</td>\n",
              "      <td>NaN</td>\n",
              "      <td>{'max_features': 6, 'n_estimators': 30}</td>\n",
              "      <td>-4.366605</td>\n",
              "      <td>-3.938221</td>\n",
              "      <td>-4.775997</td>\n",
              "      <td>-5.276139</td>\n",
              "      <td>-5.402088</td>\n",
              "      <td>-4.751810</td>\n",
              "      <td>0.549304</td>\n",
              "      <td>2</td>\n",
              "      <td>-7.898795e-01</td>\n",
              "      <td>-7.851282e-01</td>\n",
              "      <td>-6.434943e-01</td>\n",
              "      <td>-6.539155e-01</td>\n",
              "      <td>-8.769694e-01</td>\n",
              "      <td>-7.498774e-01</td>\n",
              "      <td>8.890581e-02</td>\n",
              "    </tr>\n",
              "    <tr>\n",
              "      <th>9</th>\n",
              "      <td>0.007545</td>\n",
              "      <td>0.000070</td>\n",
              "      <td>0.001110</td>\n",
              "      <td>0.000120</td>\n",
              "      <td>8</td>\n",
              "      <td>3</td>\n",
              "      <td>NaN</td>\n",
              "      <td>{'max_features': 8, 'n_estimators': 3}</td>\n",
              "      <td>-6.146488</td>\n",
              "      <td>-5.781440</td>\n",
              "      <td>-8.235720</td>\n",
              "      <td>-5.255597</td>\n",
              "      <td>-4.331583</td>\n",
              "      <td>-5.950166</td>\n",
              "      <td>1.295608</td>\n",
              "      <td>7</td>\n",
              "      <td>-2.224775e+00</td>\n",
              "      <td>-2.028882e+00</td>\n",
              "      <td>-2.031410e+00</td>\n",
              "      <td>-1.371304e+00</td>\n",
              "      <td>-1.730161e+00</td>\n",
              "      <td>-1.877306e+00</td>\n",
              "      <td>2.983782e-01</td>\n",
              "    </tr>\n",
              "    <tr>\n",
              "      <th>10</th>\n",
              "      <td>0.022934</td>\n",
              "      <td>0.000393</td>\n",
              "      <td>0.001540</td>\n",
              "      <td>0.000065</td>\n",
              "      <td>8</td>\n",
              "      <td>10</td>\n",
              "      <td>NaN</td>\n",
              "      <td>{'max_features': 8, 'n_estimators': 10}</td>\n",
              "      <td>-4.499609</td>\n",
              "      <td>-4.542612</td>\n",
              "      <td>-5.429110</td>\n",
              "      <td>-6.415904</td>\n",
              "      <td>-3.651920</td>\n",
              "      <td>-4.907831</td>\n",
              "      <td>0.940570</td>\n",
              "      <td>3</td>\n",
              "      <td>-1.056278e+00</td>\n",
              "      <td>-1.067956e+00</td>\n",
              "      <td>-9.387489e-01</td>\n",
              "      <td>-1.202701e+00</td>\n",
              "      <td>-1.134841e+00</td>\n",
              "      <td>-1.080105e+00</td>\n",
              "      <td>8.800309e-02</td>\n",
              "    </tr>\n",
              "    <tr>\n",
              "      <th>11</th>\n",
              "      <td>0.066423</td>\n",
              "      <td>0.001054</td>\n",
              "      <td>0.003091</td>\n",
              "      <td>0.000445</td>\n",
              "      <td>8</td>\n",
              "      <td>30</td>\n",
              "      <td>NaN</td>\n",
              "      <td>{'max_features': 8, 'n_estimators': 30}</td>\n",
              "      <td>-3.790567</td>\n",
              "      <td>-3.901266</td>\n",
              "      <td>-4.994158</td>\n",
              "      <td>-5.224827</td>\n",
              "      <td>-4.687521</td>\n",
              "      <td>-4.519668</td>\n",
              "      <td>0.576988</td>\n",
              "      <td>1</td>\n",
              "      <td>-7.650835e-01</td>\n",
              "      <td>-7.560907e-01</td>\n",
              "      <td>-6.553046e-01</td>\n",
              "      <td>-6.838891e-01</td>\n",
              "      <td>-8.044782e-01</td>\n",
              "      <td>-7.329692e-01</td>\n",
              "      <td>5.499110e-02</td>\n",
              "    </tr>\n",
              "    <tr>\n",
              "      <th>12</th>\n",
              "      <td>0.005423</td>\n",
              "      <td>0.000374</td>\n",
              "      <td>0.001034</td>\n",
              "      <td>0.000072</td>\n",
              "      <td>2</td>\n",
              "      <td>3</td>\n",
              "      <td>False</td>\n",
              "      <td>{'bootstrap': False, 'max_features': 2, 'n_est...</td>\n",
              "      <td>-7.437531</td>\n",
              "      <td>-6.855117</td>\n",
              "      <td>-8.612716</td>\n",
              "      <td>-8.585446</td>\n",
              "      <td>-15.881194</td>\n",
              "      <td>-9.474401</td>\n",
              "      <td>3.273812</td>\n",
              "      <td>16</td>\n",
              "      <td>-2.630350e-30</td>\n",
              "      <td>-2.386121e-30</td>\n",
              "      <td>-2.764677e-30</td>\n",
              "      <td>-2.522890e-30</td>\n",
              "      <td>-1.714678e-04</td>\n",
              "      <td>-3.429355e-05</td>\n",
              "      <td>6.858711e-05</td>\n",
              "    </tr>\n",
              "    <tr>\n",
              "      <th>13</th>\n",
              "      <td>0.015081</td>\n",
              "      <td>0.000313</td>\n",
              "      <td>0.001650</td>\n",
              "      <td>0.000090</td>\n",
              "      <td>2</td>\n",
              "      <td>10</td>\n",
              "      <td>False</td>\n",
              "      <td>{'bootstrap': False, 'max_features': 2, 'n_est...</td>\n",
              "      <td>-4.380733</td>\n",
              "      <td>-6.261752</td>\n",
              "      <td>-5.932542</td>\n",
              "      <td>-10.987230</td>\n",
              "      <td>-9.022119</td>\n",
              "      <td>-7.316875</td>\n",
              "      <td>2.367697</td>\n",
              "      <td>13</td>\n",
              "      <td>-5.572755e-06</td>\n",
              "      <td>-5.572755e-06</td>\n",
              "      <td>-1.026496e-29</td>\n",
              "      <td>-1.047500e-29</td>\n",
              "      <td>-1.543210e-05</td>\n",
              "      <td>-5.315522e-06</td>\n",
              "      <td>5.638919e-06</td>\n",
              "    </tr>\n",
              "    <tr>\n",
              "      <th>14</th>\n",
              "      <td>0.006237</td>\n",
              "      <td>0.000246</td>\n",
              "      <td>0.001124</td>\n",
              "      <td>0.000083</td>\n",
              "      <td>3</td>\n",
              "      <td>3</td>\n",
              "      <td>False</td>\n",
              "      <td>{'bootstrap': False, 'max_features': 3, 'n_est...</td>\n",
              "      <td>-6.984829</td>\n",
              "      <td>-5.236639</td>\n",
              "      <td>-7.128107</td>\n",
              "      <td>-10.185007</td>\n",
              "      <td>-12.176111</td>\n",
              "      <td>-8.342139</td>\n",
              "      <td>2.492220</td>\n",
              "      <td>15</td>\n",
              "      <td>-2.630350e-30</td>\n",
              "      <td>-2.386121e-30</td>\n",
              "      <td>-2.764677e-30</td>\n",
              "      <td>-2.522890e-30</td>\n",
              "      <td>-2.164498e-30</td>\n",
              "      <td>-2.493707e-30</td>\n",
              "      <td>2.063497e-31</td>\n",
              "    </tr>\n",
              "    <tr>\n",
              "      <th>15</th>\n",
              "      <td>0.017373</td>\n",
              "      <td>0.000540</td>\n",
              "      <td>0.001674</td>\n",
              "      <td>0.000109</td>\n",
              "      <td>3</td>\n",
              "      <td>10</td>\n",
              "      <td>False</td>\n",
              "      <td>{'bootstrap': False, 'max_features': 3, 'n_est...</td>\n",
              "      <td>-5.152902</td>\n",
              "      <td>-4.446920</td>\n",
              "      <td>-6.323286</td>\n",
              "      <td>-12.720469</td>\n",
              "      <td>-6.140120</td>\n",
              "      <td>-6.956740</td>\n",
              "      <td>2.961139</td>\n",
              "      <td>10</td>\n",
              "      <td>-3.095975e-06</td>\n",
              "      <td>-1.016727e-29</td>\n",
              "      <td>-1.026496e-29</td>\n",
              "      <td>-1.047500e-29</td>\n",
              "      <td>-9.636764e-30</td>\n",
              "      <td>-6.191950e-07</td>\n",
              "      <td>1.238390e-06</td>\n",
              "    </tr>\n",
              "    <tr>\n",
              "      <th>16</th>\n",
              "      <td>0.006703</td>\n",
              "      <td>0.000309</td>\n",
              "      <td>0.001140</td>\n",
              "      <td>0.000110</td>\n",
              "      <td>4</td>\n",
              "      <td>3</td>\n",
              "      <td>False</td>\n",
              "      <td>{'bootstrap': False, 'max_features': 4, 'n_est...</td>\n",
              "      <td>-4.720439</td>\n",
              "      <td>-6.278519</td>\n",
              "      <td>-6.591413</td>\n",
              "      <td>-7.159012</td>\n",
              "      <td>-10.391931</td>\n",
              "      <td>-7.028263</td>\n",
              "      <td>1.866031</td>\n",
              "      <td>12</td>\n",
              "      <td>-1.995184e-04</td>\n",
              "      <td>-2.386121e-30</td>\n",
              "      <td>-2.764677e-30</td>\n",
              "      <td>-2.522890e-30</td>\n",
              "      <td>-2.164498e-30</td>\n",
              "      <td>-3.990368e-05</td>\n",
              "      <td>7.980736e-05</td>\n",
              "    </tr>\n",
              "    <tr>\n",
              "      <th>17</th>\n",
              "      <td>0.020195</td>\n",
              "      <td>0.001777</td>\n",
              "      <td>0.001659</td>\n",
              "      <td>0.000080</td>\n",
              "      <td>4</td>\n",
              "      <td>10</td>\n",
              "      <td>False</td>\n",
              "      <td>{'bootstrap': False, 'max_features': 4, 'n_est...</td>\n",
              "      <td>-3.329459</td>\n",
              "      <td>-4.460632</td>\n",
              "      <td>-5.172938</td>\n",
              "      <td>-6.286311</td>\n",
              "      <td>-7.801766</td>\n",
              "      <td>-5.410221</td>\n",
              "      <td>1.534576</td>\n",
              "      <td>5</td>\n",
              "      <td>-2.352941e-05</td>\n",
              "      <td>-1.016727e-29</td>\n",
              "      <td>-4.489164e-05</td>\n",
              "      <td>-1.035777e-29</td>\n",
              "      <td>-6.172840e-05</td>\n",
              "      <td>-2.602989e-05</td>\n",
              "      <td>2.446022e-05</td>\n",
              "    </tr>\n",
              "  </tbody>\n",
              "</table>\n",
              "</div>"
            ],
            "text/plain": [
              "    mean_fit_time  std_fit_time  ...  mean_train_score  std_train_score\n",
              "0        0.006778      0.002000  ...     -3.947270e+00     1.033666e+00\n",
              "1        0.016706      0.000590  ...     -2.357632e+00     9.323317e-02\n",
              "2        0.047188      0.000785  ...     -1.270089e+00     1.729730e-01\n",
              "3        0.006582      0.000210  ...     -2.235565e+00     3.502760e-01\n",
              "4        0.018927      0.000367  ...     -1.413411e+00     1.653829e-01\n",
              "5        0.051431      0.001535  ...     -8.551873e-01     9.399516e-02\n",
              "6        0.006664      0.000277  ...     -1.704226e+00     3.356852e-01\n",
              "7        0.020905      0.000524  ...     -1.187176e+00     2.360457e-01\n",
              "8        0.060886      0.000719  ...     -7.498774e-01     8.890581e-02\n",
              "9        0.007545      0.000070  ...     -1.877306e+00     2.983782e-01\n",
              "10       0.022934      0.000393  ...     -1.080105e+00     8.800309e-02\n",
              "11       0.066423      0.001054  ...     -7.329692e-01     5.499110e-02\n",
              "12       0.005423      0.000374  ...     -3.429355e-05     6.858711e-05\n",
              "13       0.015081      0.000313  ...     -5.315522e-06     5.638919e-06\n",
              "14       0.006237      0.000246  ...     -2.493707e-30     2.063497e-31\n",
              "15       0.017373      0.000540  ...     -6.191950e-07     1.238390e-06\n",
              "16       0.006703      0.000309  ...     -3.990368e-05     7.980736e-05\n",
              "17       0.020195      0.001777  ...     -2.602989e-05     2.446022e-05\n",
              "\n",
              "[18 rows x 23 columns]"
            ]
          },
          "metadata": {
            "tags": []
          },
          "execution_count": 150
        }
      ]
    },
    {
      "cell_type": "markdown",
      "metadata": {
        "id": "HtR2-dTdwbaT",
        "colab_type": "text"
      },
      "source": [
        "Then, because I would like to attempt to get the training error closer to 2, I'm going to run a RandomizedSearchCV."
      ]
    },
    {
      "cell_type": "code",
      "metadata": {
        "id": "q1I74xgXwm1b",
        "colab_type": "code",
        "colab": {
          "base_uri": "https://localhost:8080/",
          "height": 419
        },
        "outputId": "0c077860-e9c3-4857-d850-d55c9c0e0676"
      },
      "source": [
        "from sklearn.model_selection import RandomizedSearchCV\n",
        "from scipy.stats import randint\n",
        "\n",
        "param_distribs = {\n",
        "        'n_estimators': randint(low=1, high=200),\n",
        "        'max_features': randint(low=1, high=10),\n",
        "    }\n",
        "\n",
        "forest_reg = RandomForestRegressor(random_state=42)\n",
        "rnd_search = RandomizedSearchCV(forest_reg, param_distributions=param_distribs,\n",
        "                                n_iter=10, cv=5, scoring='neg_mean_squared_error', random_state=42)\n",
        "rnd_search.fit(housing_tr, housing_labels)"
      ],
      "execution_count": 151,
      "outputs": [
        {
          "output_type": "execute_result",
          "data": {
            "text/plain": [
              "RandomizedSearchCV(cv=5, error_score=nan,\n",
              "                   estimator=RandomForestRegressor(bootstrap=True,\n",
              "                                                   ccp_alpha=0.0,\n",
              "                                                   criterion='mse',\n",
              "                                                   max_depth=None,\n",
              "                                                   max_features='auto',\n",
              "                                                   max_leaf_nodes=None,\n",
              "                                                   max_samples=None,\n",
              "                                                   min_impurity_decrease=0.0,\n",
              "                                                   min_impurity_split=None,\n",
              "                                                   min_samples_leaf=1,\n",
              "                                                   min_samples_split=2,\n",
              "                                                   min_weight_fraction_leaf=0.0,\n",
              "                                                   n_estimators=100,\n",
              "                                                   n_jobs=None, oob_score=Fals...\n",
              "                                                   warm_start=False),\n",
              "                   iid='deprecated', n_iter=10, n_jobs=None,\n",
              "                   param_distributions={'max_features': <scipy.stats._distn_infrastructure.rv_frozen object at 0x7fe5177ef208>,\n",
              "                                        'n_estimators': <scipy.stats._distn_infrastructure.rv_frozen object at 0x7fe5177ef390>},\n",
              "                   pre_dispatch='2*n_jobs', random_state=42, refit=True,\n",
              "                   return_train_score=False, scoring='neg_mean_squared_error',\n",
              "                   verbose=0)"
            ]
          },
          "metadata": {
            "tags": []
          },
          "execution_count": 151
        }
      ]
    },
    {
      "cell_type": "code",
      "metadata": {
        "id": "LL_xs-7mwwML",
        "colab_type": "code",
        "colab": {
          "base_uri": "https://localhost:8080/",
          "height": 191
        },
        "outputId": "8b0e06e6-0493-4c30-e97b-ba17bf1a3e0a"
      },
      "source": [
        "cvres = rnd_search.cv_results_\n",
        "for mean_score, params in zip(cvres[\"mean_test_score\"], cvres[\"params\"]):\n",
        "    print(np.sqrt(-mean_score), params)"
      ],
      "execution_count": 152,
      "outputs": [
        {
          "output_type": "stream",
          "text": [
            "2.0646635261129584 {'max_features': 7, 'n_estimators': 180}\n",
            "2.033140167694562 {'max_features': 8, 'n_estimators': 189}\n",
            "2.172501177349029 {'max_features': 5, 'n_estimators': 103}\n",
            "2.3972832070522694 {'max_features': 3, 'n_estimators': 75}\n",
            "2.060878613444181 {'max_features': 8, 'n_estimators': 117}\n",
            "2.245899019750575 {'max_features': 4, 'n_estimators': 104}\n",
            "2.0468211466968524 {'max_features': 8, 'n_estimators': 131}\n",
            "2.130450861604839 {'max_features': 6, 'n_estimators': 53}\n",
            "2.676386393872529 {'max_features': 2, 'n_estimators': 88}\n",
            "2.1130650212873325 {'max_features': 6, 'n_estimators': 130}\n"
          ],
          "name": "stdout"
        }
      ]
    },
    {
      "cell_type": "code",
      "metadata": {
        "id": "qx8i4xK_w4kE",
        "colab_type": "code",
        "colab": {
          "base_uri": "https://localhost:8080/",
          "height": 69
        },
        "outputId": "bd30a9e0-d220-4c9d-b802-f4e8b2b70a77"
      },
      "source": [
        "feature_importances = grid_search.best_estimator_.feature_importances_\n",
        "feature_importances"
      ],
      "execution_count": 153,
      "outputs": [
        {
          "output_type": "execute_result",
          "data": {
            "text/plain": [
              "array([0.02562856, 0.00078237, 0.00733848, 0.00065152, 0.02219604,\n",
              "       0.12996564, 0.00516813, 0.02046665, 0.00345163, 0.0043703 ,\n",
              "       0.0098895 , 0.00524976, 0.25869726, 0.50614417])"
            ]
          },
          "metadata": {
            "tags": []
          },
          "execution_count": 153
        }
      ]
    },
    {
      "cell_type": "markdown",
      "metadata": {
        "id": "wNXuCTXiymf9",
        "colab_type": "text"
      },
      "source": [
        "Based on this feature importance array, we can tell that RM and LSTAT matter a significant amount, and CRIM, NOX, and DIS all matter to a certain extent, but not nearly as much as RM and LSTAT."
      ]
    },
    {
      "cell_type": "markdown",
      "metadata": {
        "id": "TtbMqIiU4xmm",
        "colab_type": "text"
      },
      "source": [
        "## Running on Test Data"
      ]
    },
    {
      "cell_type": "code",
      "metadata": {
        "id": "80L0q8am43UY",
        "colab_type": "code",
        "colab": {}
      },
      "source": [
        "final_model = grid_search.best_estimator_\n",
        "\n",
        "X_test = strat_test_set.drop(\"MEDV\", axis=1)\n",
        "y_test = strat_test_set[\"MEDV\"].copy()\n",
        "\n",
        "from sklearn.pipeline import Pipeline\n",
        "from sklearn.preprocessing import StandardScaler\n",
        "num_pipeline = Pipeline([\n",
        "        ('std_scaler', StandardScaler()),\n",
        "    ])\n",
        "\n",
        "X_test_prepared = num_pipeline.fit_transform(X_test)\n",
        "\n",
        "#X_test_prepared = full_pipeline.transform(X_test)\n",
        "final_predictions = final_model.predict(X_test_prepared)\n",
        "\n",
        "final_mse = mean_squared_error(y_test, final_predictions)\n",
        "final_rmse = np.sqrt(final_mse)"
      ],
      "execution_count": 0,
      "outputs": []
    },
    {
      "cell_type": "code",
      "metadata": {
        "id": "QhniD-ZW5Oe5",
        "colab_type": "code",
        "colab": {
          "base_uri": "https://localhost:8080/",
          "height": 35
        },
        "outputId": "d037a1b5-b6bc-46e8-cdee-f6dfe23873ce"
      },
      "source": [
        "final_rmse"
      ],
      "execution_count": 155,
      "outputs": [
        {
          "output_type": "execute_result",
          "data": {
            "text/plain": [
              "2.2726176446128514"
            ]
          },
          "metadata": {
            "tags": []
          },
          "execution_count": 155
        }
      ]
    }
  ]
}